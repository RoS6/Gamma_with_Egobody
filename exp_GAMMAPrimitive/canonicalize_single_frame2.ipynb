{
 "cells": [
  {
   "cell_type": "code",
   "execution_count": 1,
   "metadata": {},
   "outputs": [],
   "source": [
    "from __future__ import absolute_import\n",
    "from __future__ import division\n",
    "from __future__ import print_function\n",
    "\n",
    "import os, sys, glob\n",
    "import numpy as np\n",
    "from tqdm import tqdm\n",
    "import torch\n",
    "import smplx\n",
    "from sklearn.neighbors import NearestNeighbors\n",
    "from scipy.spatial.transform import Rotation as R\n",
    "from scipy.ndimage import gaussian_filter1d\n",
    "import json\n",
    "import csv\n",
    "import pdb\n",
    "import pickle"
   ]
  },
  {
   "cell_type": "code",
   "execution_count": 2,
   "metadata": {},
   "outputs": [],
   "source": [
    "def get_body_model(type, gender, batch_size,device='cpu'):\n",
    "    '''\n",
    "    type: smpl, smplx smplh and others. Refer to smplx tutorial\n",
    "    gender: male, female, neutral\n",
    "    batch_size: an positive integar\n",
    "    '''\n",
    "    body_model_path = '/home/yuxinyao/body_models/'\n",
    "    body_model = smplx.create(body_model_path, model_type=type,\n",
    "                                    gender=gender, ext='npz',\n",
    "                                    num_pca_comps=12,\n",
    "                                    create_global_orient=True,\n",
    "                                    create_body_pose=True,\n",
    "                                    create_betas=True,\n",
    "                                    create_left_hand_pose=True,\n",
    "                                    create_right_hand_pose=True,\n",
    "                                    create_expression=True,\n",
    "                                    create_jaw_pose=True,\n",
    "                                    create_leye_pose=True,\n",
    "                                    create_reye_pose=True,\n",
    "                                    create_transl=True,\n",
    "                                    batch_size=batch_size\n",
    "                                    )\n",
    "    if device == 'cuda':\n",
    "        return body_model.cuda()\n",
    "    else:\n",
    "        return body_model\n",
    "        "
   ]
  },
  {
   "cell_type": "code",
   "execution_count": 3,
   "metadata": {},
   "outputs": [],
   "source": [
    "with open('/home/yuxinyao/datasets/egobody/smplx_camera_wearer/recording_20210907_S02_S01_01/body_idx_1/results/frame_01551/000.pkl', 'rb') as f:\n",
    "    data = dict(pickle.load(f))"
   ]
  },
  {
   "cell_type": "code",
   "execution_count": 4,
   "metadata": {},
   "outputs": [],
   "source": [
    "bm_one_female =get_body_model('smplx','female',1,device='cuda')"
   ]
  },
  {
   "cell_type": "code",
   "execution_count": 6,
   "metadata": {},
   "outputs": [],
   "source": [
    "transl = data['transl']\n",
    "pose = data['body_pose']\n",
    "global_orient = data['global_orient']\n",
    "betas = data['betas']"
   ]
  },
  {
   "cell_type": "code",
   "execution_count": 11,
   "metadata": {},
   "outputs": [],
   "source": [
    "temp_bodyconfig = {}\n",
    "temp_bodyconfig['transl'] = torch.FloatTensor(transl).cuda()\n",
    "temp_bodyconfig['global_orient'] = torch.FloatTensor(global_orient).cuda()\n",
    "temp_bodyconfig['body_pose'] = torch.FloatTensor(pose).cuda()\n",
    "temp_bodyconfig['betas'] = torch.FloatTensor(betas).cuda()\n",
    "\n",
    "smplxout = bm_one_female(**temp_bodyconfig)\n",
    "joints = smplxout.joints.squeeze().detach().cpu().numpy()\n",
    "x_axis = joints[2,:] - joints[1,:]\n",
    "x_axis[-1] = 0\n",
    "x_axis = x_axis / np.linalg.norm(x_axis)\n",
    "z_axis = np.array([0,0,-1])\n",
    "y_axis = np.cross(z_axis, x_axis)\n",
    "y_axis = y_axis/np.linalg.norm(y_axis)\n",
    "global_ori_new = np.stack([x_axis, y_axis, z_axis], axis=1)\n",
    "transl_new = joints[:1,:] # put the local origin to pelvis\n",
    "\n",
    "\n",
    "transf_rotmat = global_ori_new\n",
    "transf_transl = transl_new"
   ]
  },
  {
   "cell_type": "code",
   "execution_count": 12,
   "metadata": {},
   "outputs": [],
   "source": [
    "smplx_out = bm_one_female(return_verts=True, **temp_bodyconfig)\n",
    "delta_T = smplx_out.joints[:,0,:] # we output all pelvis locations\n",
    "delta_T = delta_T.detach().cpu().numpy() #[t, 3]"
   ]
  },
  {
   "cell_type": "code",
   "execution_count": 16,
   "metadata": {},
   "outputs": [
    {
     "data": {
      "text/plain": [
       "(1, 3)"
      ]
     },
     "execution_count": 16,
     "metadata": {},
     "output_type": "execute_result"
    }
   ],
   "source": [
    "global_orient.shape"
   ]
  },
  {
   "cell_type": "code",
   "execution_count": 17,
   "metadata": {},
   "outputs": [],
   "source": [
    "global_ori_new = np.einsum('ij,tjk->tik', transf_rotmat.T, R.from_rotvec(global_orient).as_matrix())"
   ]
  },
  {
   "cell_type": "code",
   "execution_count": 25,
   "metadata": {},
   "outputs": [],
   "source": [
    "# global_ori_new = np.einsum('ij,tjk->tik', R.from_rotvec([np.pi, 0, 0]).as_matrix() , global_ori_new)\n"
   ]
  },
  {
   "cell_type": "code",
   "execution_count": 18,
   "metadata": {},
   "outputs": [
    {
     "data": {
      "text/plain": [
       "array([[[-0.83436058,  0.10501542, -0.54112313],\n",
       "        [-0.04300984,  0.96628843,  0.25384409],\n",
       "        [ 0.54953855,  0.23507111, -0.80171626]]])"
      ]
     },
     "execution_count": 18,
     "metadata": {},
     "output_type": "execute_result"
    }
   ],
   "source": [
    "global_ori_new"
   ]
  },
  {
   "cell_type": "code",
   "execution_count": 27,
   "metadata": {},
   "outputs": [],
   "source": [
    "# global_ori_new = np.einsum('ij,tjk->tik', R.from_rotvec([0, 0, np.pi]).as_matrix() , global_ori_new)"
   ]
  },
  {
   "cell_type": "code",
   "execution_count": 28,
   "metadata": {},
   "outputs": [
    {
     "data": {
      "text/plain": [
       "array([[[0.99999994, 0.        , 0.        ],\n",
       "        [0.        , 1.        , 0.        ],\n",
       "        [0.        , 0.        , 1.        ]]])"
      ]
     },
     "execution_count": 28,
     "metadata": {},
     "output_type": "execute_result"
    }
   ],
   "source": [
    "global_ori_new"
   ]
  },
  {
   "cell_type": "code",
   "execution_count": 19,
   "metadata": {},
   "outputs": [],
   "source": [
    "global_orient_save = R.from_matrix(global_ori_new).as_rotvec()"
   ]
  },
  {
   "cell_type": "code",
   "execution_count": 20,
   "metadata": {},
   "outputs": [
    {
     "data": {
      "text/plain": [
       "array([[-0.04363571, -2.5351227 , -0.34406839]])"
      ]
     },
     "execution_count": 20,
     "metadata": {},
     "output_type": "execute_result"
    }
   ],
   "source": [
    "global_orient_save#  why not 0 0 0 ?"
   ]
  },
  {
   "cell_type": "code",
   "execution_count": 26,
   "metadata": {},
   "outputs": [],
   "source": [
    "# transl2 = transl.repeat(10)"
   ]
  },
  {
   "cell_type": "code",
   "execution_count": 22,
   "metadata": {},
   "outputs": [],
   "source": [
    "transl_save = np.einsum('ij,tj->ti', transf_rotmat.T, transl+delta_T-transf_transl)-delta_T"
   ]
  },
  {
   "cell_type": "code",
   "execution_count": 23,
   "metadata": {},
   "outputs": [
    {
     "data": {
      "text/plain": [
       "array([[-0.03398963, -0.57903622, -4.48019505]])"
      ]
     },
     "execution_count": 23,
     "metadata": {},
     "output_type": "execute_result"
    }
   ],
   "source": [
    "transl_save #why not 0,0,0??"
   ]
  },
  {
   "cell_type": "code",
   "execution_count": 24,
   "metadata": {},
   "outputs": [],
   "source": [
    "data_out = data\n",
    "data_out['trans'] = transl_save\n",
    "data_out['body_pose'] = pose\n",
    "data_out['betas'] = betas\n",
    "data_out['gender'] = data['gender']\n",
    "data_out['global_orient'] = global_orient_save\n",
    "\n"
   ]
  },
  {
   "cell_type": "code",
   "execution_count": 36,
   "metadata": {},
   "outputs": [],
   "source": [
    "# try save  joints\n",
    "# savetemps = {}\n",
    "# savetemps = data\n",
    "\n",
    "# for key in data.keys():\n",
    "#     if key in ['pose_embedding', 'camera_rotation', 'camera_translation', 'gender']:\n",
    "#         continue\n",
    "#     else:\n",
    "#         savetemps[key] = torch.tensor(data[key]).cuda()\n",
    "\n",
    "# savetemps['trans'] = torch.FloatTensor(transl_save).cuda()\n",
    "# savetemps['body_pose'] = torch.FloatTensor(pose).cuda()\n",
    "# savetemps['betas'] = torch.FloatTensor(betas).cuda()\n",
    "# savetemps['gender'] = data['gender']\n",
    "# savetemps['global_orient'] = torch.FloatTensor(global_orient_save).cuda()\n",
    "\n",
    "\n",
    "# smplxout = bm_one_female(return_verts=True, **savetemps)\n",
    "# joints = smplxout.joints[:,:22,:].detach().squeeze().cpu().numpy()\n",
    "# markers_41 = smplxout.vertices[:,marker_cmu_41,:].detach().squeeze().cpu().numpy()\n",
    "# markers_67 = smplxout.vertices[:,marker_ssm_67,:].detach().squeeze().cpu().numpy()\n",
    "# data_out['joints'] = joints\n",
    "# data_out['marker_cmu_41'] = markers_41\n",
    "# data_out['marker_ssm2_67'] = markers_67"
   ]
  },
  {
   "cell_type": "code",
   "execution_count": 25,
   "metadata": {},
   "outputs": [],
   "source": [
    "with open('/home/yuxinyao/datasets/egobody/test/canonicalized_xrotzrot6.pkl', 'wb') as f:\n",
    "    pickle.dump(data_out,f)"
   ]
  },
  {
   "cell_type": "code",
   "execution_count": 38,
   "metadata": {},
   "outputs": [
    {
     "name": "stdout",
     "output_type": "stream",
     "text": [
      "[[0. 0. 0.]]\n",
      "tensor([[0., 0., 0.]], device='cuda:0')\n"
     ]
    }
   ],
   "source": [
    "print(global_orient_save)\n",
    "print(data['global_orient'])"
   ]
  },
  {
   "cell_type": "code",
   "execution_count": 39,
   "metadata": {},
   "outputs": [
    {
     "data": {
      "text/plain": [
       "array([[-0.87619786,  0.05534796, -0.01364851]])"
      ]
     },
     "execution_count": 39,
     "metadata": {},
     "output_type": "execute_result"
    }
   ],
   "source": [
    "transl_save"
   ]
  },
  {
   "cell_type": "code",
   "execution_count": null,
   "metadata": {},
   "outputs": [],
   "source": []
  },
  {
   "cell_type": "code",
   "execution_count": null,
   "metadata": {},
   "outputs": [],
   "source": []
  },
  {
   "cell_type": "code",
   "execution_count": 40,
   "metadata": {},
   "outputs": [],
   "source": [
    "# global_ori"
   ]
  },
  {
   "cell_type": "code",
   "execution_count": 41,
   "metadata": {},
   "outputs": [],
   "source": [
    "# smplxout = bm_one_female(**bodyconfig)"
   ]
  },
  {
   "cell_type": "code",
   "execution_count": 42,
   "metadata": {},
   "outputs": [],
   "source": [
    "# joints = smplxout.joints.squeeze(0)"
   ]
  },
  {
   "cell_type": "code",
   "execution_count": 43,
   "metadata": {},
   "outputs": [],
   "source": [
    "# jointNumpy = joints.detach().cpu().numpy()"
   ]
  },
  {
   "cell_type": "code",
   "execution_count": 44,
   "metadata": {},
   "outputs": [],
   "source": [
    "# j = joints[:24]"
   ]
  },
  {
   "cell_type": "code",
   "execution_count": 45,
   "metadata": {},
   "outputs": [],
   "source": [
    "# jnp = jointNumpy[:24]"
   ]
  },
  {
   "cell_type": "code",
   "execution_count": 46,
   "metadata": {},
   "outputs": [],
   "source": [
    "# #cal calibrate offset\n",
    "# bodyconfig = {}\n",
    "# bodyconfig['body_pose'] = torch.FloatTensor(pose).cuda()\n",
    "# bodyconfig['betas'] = torch.FloatTensor(betas).cuda()\n",
    "# bodyconfig['transl'] = torch.zeros([1,3], dtype=torch.float32).cuda()\n",
    "# bodyconfig['global_orient'] = torch.zeros([1,3], dtype=torch.float32).cuda()\n",
    "# smplx_out = bm_one_female(return_verts=True, **bodyconfig)\n",
    "# delta_T = smplx_out.joints[:,0,:] # we output all pelvis locations\n",
    "# delta_T = delta_T.detach().cpu().numpy() #[t, 3]\n",
    "# global_ori = R.from_rotvec(pose[:,:3]).as_matrix() # to [t,3,3] rotation mat\n",
    "# global_ori_new = np.einsum('ij,tjk->tik', transf_rotmat.T, global_ori)\n",
    "# pose[:,:3] = R.from_matrix(global_ori_new).as_rotvec()\n",
    "\n",
    "\n",
    "# # return delta_T\n"
   ]
  },
  {
   "cell_type": "code",
   "execution_count": 47,
   "metadata": {},
   "outputs": [],
   "source": [
    "# transf_rotmat, transf_transl = get_new_coordinate(bm_one_female, betas[:10], transl[:1,:], pose[:1,:66])"
   ]
  },
  {
   "cell_type": "code",
   "execution_count": 48,
   "metadata": {},
   "outputs": [
    {
     "data": {
      "text/plain": [
       "'/home/yuxinyao/GAMMA-release/exp_GAMMAPrimitive'"
      ]
     },
     "execution_count": 48,
     "metadata": {},
     "output_type": "execute_result"
    }
   ],
   "source": [
    "os.getcwd()"
   ]
  },
  {
   "cell_type": "code",
   "execution_count": 49,
   "metadata": {},
   "outputs": [],
   "source": [
    "os.chdir('/home/yuxinyao/GAMMA-release/')"
   ]
  },
  {
   "cell_type": "code",
   "execution_count": 50,
   "metadata": {},
   "outputs": [
    {
     "name": "stdout",
     "output_type": "stream",
     "text": [
      "Jupyter environment detected. Enabling Open3D WebVisualizer.\n",
      "[Open3D INFO] WebRTC GUI backend enabled.\n",
      "[Open3D INFO] WebRTCWindowSystem: HTTP handshake server disabled.\n"
     ]
    }
   ],
   "source": [
    "import os\n",
    "import sys\n",
    "import numpy as np\n",
    "import open3d as o3d\n",
    "import torch\n",
    "import smplx\n",
    "import cv2\n",
    "import pickle\n",
    "import pdb\n",
    "import re\n",
    "import glob\n",
    "\n",
    "# sys.path.append(os.getcwd())\n",
    "from exp_GAMMAPrimitive.utils.batch_gen_amass import BatchGeneratorAMASSCanonicalized\n",
    "from exp_GAMMAPrimitive.utils.vislib import *\n",
    "from exp_GAMMAPrimitive.vis_GAMMAprimitive import *"
   ]
  },
  {
   "cell_type": "code",
   "execution_count": 51,
   "metadata": {},
   "outputs": [],
   "source": [
    "import open3d as o3d"
   ]
  },
  {
   "cell_type": "code",
   "execution_count": 53,
   "metadata": {},
   "outputs": [],
   "source": [
    "from exp_GAMMAPrimitive.utils.vislib import *"
   ]
  },
  {
   "cell_type": "code",
   "execution_count": 54,
   "metadata": {},
   "outputs": [],
   "source": [
    "\n",
    "verts = smplxout.vertices.detach().cpu().numpy()\n",
    "joints = smplxout.joints[:,:22].detach().cpu().numpy()"
   ]
  },
  {
   "cell_type": "code",
   "execution_count": 55,
   "metadata": {},
   "outputs": [
    {
     "ename": "RuntimeError",
     "evalue": "Unable to cast Python instance to C++ type (compile in debug mode for details)",
     "output_type": "error",
     "traceback": [
      "\u001b[0;31m---------------------------------------------------------------------------\u001b[0m",
      "\u001b[0;31mRuntimeError\u001b[0m                              Traceback (most recent call last)",
      "\u001b[1;32m/home/yuxinyao/GAMMA-release/exp_GAMMAPrimitive/canonicalize_single_frame.ipynb Cell 58\u001b[0m in \u001b[0;36m<cell line: 38>\u001b[0;34m()\u001b[0m\n\u001b[1;32m     <a href='vscode-notebook-cell:/home/yuxinyao/GAMMA-release/exp_GAMMAPrimitive/canonicalize_single_frame.ipynb#ch0000049?line=34'>35</a>\u001b[0m \u001b[39m#100\u001b[39;00m\n\u001b[1;32m     <a href='vscode-notebook-cell:/home/yuxinyao/GAMMA-release/exp_GAMMAPrimitive/canonicalize_single_frame.ipynb#ch0000049?line=35'>36</a>\u001b[0m \u001b[39m#116 if show_body \u001b[39;00m\n\u001b[1;32m     <a href='vscode-notebook-cell:/home/yuxinyao/GAMMA-release/exp_GAMMAPrimitive/canonicalize_single_frame.ipynb#ch0000049?line=36'>37</a>\u001b[0m cv2\u001b[39m.\u001b[39mnamedWindow(\u001b[39m'\u001b[39m\u001b[39mframe2\u001b[39m\u001b[39m'\u001b[39m)\n\u001b[0;32m---> <a href='vscode-notebook-cell:/home/yuxinyao/GAMMA-release/exp_GAMMAPrimitive/canonicalize_single_frame.ipynb#ch0000049?line=37'>38</a>\u001b[0m body\u001b[39m.\u001b[39mvertices \u001b[39m=\u001b[39m o3d\u001b[39m.\u001b[39;49mutility\u001b[39m.\u001b[39;49mVector3dVector(verts)\n\u001b[1;32m     <a href='vscode-notebook-cell:/home/yuxinyao/GAMMA-release/exp_GAMMAPrimitive/canonicalize_single_frame.ipynb#ch0000049?line=38'>39</a>\u001b[0m body\u001b[39m.\u001b[39mtriangles \u001b[39m=\u001b[39m o3d\u001b[39m.\u001b[39mutility\u001b[39m.\u001b[39mVector3iVector(bm_one_female\u001b[39m.\u001b[39mfaces)\n\u001b[1;32m     <a href='vscode-notebook-cell:/home/yuxinyao/GAMMA-release/exp_GAMMAPrimitive/canonicalize_single_frame.ipynb#ch0000049?line=39'>40</a>\u001b[0m body\u001b[39m.\u001b[39mvertex_normals \u001b[39m=\u001b[39m o3d\u001b[39m.\u001b[39mutility\u001b[39m.\u001b[39mVector3dVector([])\n",
      "\u001b[0;31mRuntimeError\u001b[0m: Unable to cast Python instance to C++ type (compile in debug mode for details)"
     ]
    },
    {
     "ename": "",
     "evalue": "",
     "output_type": "error",
     "traceback": [
      "\u001b[1;31mThe Kernel crashed while executing code in the the current cell or a previous cell. Please review the code in the cell(s) to identify a possible cause of the failure. Click <a href='https://aka.ms/vscodeJupyterKernelCrash'>here</a> for more info. View Jupyter <a href='command:jupyter.viewOutput'>log</a> for further details."
     ]
    }
   ],
   "source": [
    "from zmq import DRAFT_API\n",
    "\n",
    "\n",
    "np.random.seed(0)\n",
    "vis = o3d.visualization.Visualizer()\n",
    "vis.create_window(width=960, height=540,visible=True)\n",
    "# vis.create_window(width=480, height=270,visible=True)\n",
    "render_opt=vis.get_render_option()\n",
    "render_opt.mesh_show_back_face=True\n",
    "render_opt.line_width=10\n",
    "render_opt.point_size=5\n",
    "render_opt.background_color = color_hex2rgb('#1c2434')\n",
    "vis.update_renderer()\n",
    "\n",
    "### top lighting\n",
    "box = o3d.geometry.TriangleMesh.create_box(width=200, depth=1,height=200)\n",
    "box.translate(np.array([-200,-200,6]))\n",
    "vis.add_geometry(box)\n",
    "vis.poll_events()\n",
    "vis.update_renderer()\n",
    "\n",
    "#### world coordinate\n",
    "coord = o3d.geometry.TriangleMesh.create_coordinate_frame(size=0.25)\n",
    "vis.add_geometry(coord)\n",
    "vis.poll_events()\n",
    "vis.update_renderer()\n",
    "\n",
    "\n",
    "# if show_body  71\n",
    "body = o3d.geometry.TriangleMesh()\n",
    "vis.add_geometry(body)\n",
    "vis.poll_events()\n",
    "vis.update_renderer()\n",
    "\n",
    "#100\n",
    "#116 if show_body \n",
    "cv2.namedWindow('frame2')\n",
    "body.vertices = o3d.utility.Vector3dVector(verts)\n",
    "body.triangles = o3d.utility.Vector3iVector(bm_one_female.faces)\n",
    "body.vertex_normals = o3d.utility.Vector3dVector([])\n",
    "body.triangle_normals = o3d.utility.Vector3dVector([])\n",
    "body.compute_vertex_normals()\n",
    "vis.update_geometry(body)\n",
    "\n",
    "body.paint_uniform_color(color_hex2rgb('#c7624f'))\n",
    "\n",
    "\n",
    "ctr = vis.get_view_control()\n",
    "ctr.set_constant_z_far(10)\n",
    "cam_param = ctr.convert_to_pinhole_camera_parameters()\n",
    "### get cam T\n",
    "# body_t = np.mean(data[it],axis=0) # let cam follow the body\n",
    "body_t = np.array([0,0,0])\n",
    "cam_t = body_t + 2.0*np.ones(3)\n",
    "### get cam R\n",
    "cam_z =  body_t - cam_t\n",
    "cam_z = cam_z / np.linalg.norm(cam_z)\n",
    "cam_x = np.array([cam_z[1], -cam_z[0], 0.0])\n",
    "cam_x = cam_x / np.linalg.norm(cam_x)\n",
    "cam_y = np.array([cam_z[0], cam_z[1], -(cam_z[0]**2 + cam_z[1]**2)/cam_z[2] ])\n",
    "cam_y = cam_y / np.linalg.norm(cam_y)\n",
    "cam_r = np.stack([cam_x, -cam_y, cam_z], axis=1)\n",
    "### update render cam\n",
    "transf = np.eye(4)\n",
    "transf[:3,:3]=cam_r\n",
    "transf[:3,-1] = cam_t\n",
    "cam_param = update_render_cam(cam_param, transf)\n",
    "ctr.convert_from_pinhole_camera_parameters(cam_param)\n",
    "vis.poll_events()\n",
    "vis.update_renderer()\n",
    "\n",
    "## capture RGB appearance\n",
    "rgb = np.asarray(vis.capture_screen_float_buffer(do_render=True))\n",
    "cv2.imshow(\"frame2\", np.uint8(255*rgb[:,:,[2,1,0]]))\n",
    "outfile_path = '/home/yuxinyao/datasets/egobody/test'\n",
    "renderimgname = os.path.join(outfile_path, 'img1.png')\n",
    "cv2.imwrite(renderimgname, np.uint8(255*rgb[:,:,[2,1,0]]))\n",
    "cv2.waitKey(5)\n",
    "\n",
    "\n"
   ]
  },
  {
   "cell_type": "code",
   "execution_count": null,
   "metadata": {},
   "outputs": [],
   "source": [
    "# get vertices\n"
   ]
  },
  {
   "cell_type": "code",
   "execution_count": 27,
   "metadata": {},
   "outputs": [],
   "source": [
    "with open('/home/yuxinyao/body_models/Mosh_related/CMU.json') as f:\n",
    "    marker_cmu_41 = list(json.load(f)['markersets'][0]['indices'].values())"
   ]
  },
  {
   "cell_type": "code",
   "execution_count": null,
   "metadata": {},
   "outputs": [],
   "source": [
    "marker_cmu_41"
   ]
  }
 ],
 "metadata": {
  "kernelspec": {
   "display_name": "Python 3.8.13 ('gamma': conda)",
   "language": "python",
   "name": "python3"
  },
  "language_info": {
   "codemirror_mode": {
    "name": "ipython",
    "version": 3
   },
   "file_extension": ".py",
   "mimetype": "text/x-python",
   "name": "python",
   "nbconvert_exporter": "python",
   "pygments_lexer": "ipython3",
   "version": "3.8.13"
  },
  "orig_nbformat": 4,
  "vscode": {
   "interpreter": {
    "hash": "720d3a964413da2bea7e2e4b0eb30c556f9a5444fa1cb937fde2667f27456227"
   }
  }
 },
 "nbformat": 4,
 "nbformat_minor": 2
}
