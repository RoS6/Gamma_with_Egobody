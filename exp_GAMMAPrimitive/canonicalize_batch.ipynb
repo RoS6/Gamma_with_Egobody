{
 "cells": [
  {
   "cell_type": "code",
   "execution_count": 89,
   "metadata": {},
   "outputs": [],
   "source": [
    "from __future__ import absolute_import\n",
    "from __future__ import division\n",
    "from __future__ import print_function\n",
    "\n",
    "import os, sys, glob\n",
    "import numpy as np\n",
    "from tqdm import tqdm\n",
    "import torch\n",
    "import smplx\n",
    "from sklearn.neighbors import NearestNeighbors\n",
    "from scipy.spatial.transform import Rotation as R\n",
    "from scipy.ndimage import gaussian_filter1d\n",
    "import json\n",
    "import csv\n",
    "import pdb\n",
    "import pickle"
   ]
  },
  {
   "cell_type": "code",
   "execution_count": 90,
   "metadata": {},
   "outputs": [],
   "source": [
    "def get_body_model(type, gender, batch_size,device='cpu'):\n",
    "    '''\n",
    "    type: smpl, smplx smplh and others. Refer to smplx tutorial\n",
    "    gender: male, female, neutral\n",
    "    batch_size: an positive integar\n",
    "    '''\n",
    "    body_model_path = '/home/yuxinyao/body_models/'\n",
    "    body_model = smplx.create(body_model_path, model_type=type,\n",
    "                                    gender=gender, ext='npz',\n",
    "                                    num_pca_comps=12,\n",
    "                                    create_global_orient=True,\n",
    "                                    create_body_pose=True,\n",
    "                                    create_betas=True,\n",
    "                                    create_left_hand_pose=True,\n",
    "                                    create_right_hand_pose=True,\n",
    "                                    create_expression=True,\n",
    "                                    create_jaw_pose=True,\n",
    "                                    create_leye_pose=True,\n",
    "                                    create_reye_pose=True,\n",
    "                                    create_transl=True,\n",
    "                                    batch_size=batch_size\n",
    "                                    )\n",
    "    if device == 'cuda':\n",
    "        return body_model.cuda()\n",
    "    else:\n",
    "        return body_model\n",
    "        "
   ]
  },
  {
   "cell_type": "code",
   "execution_count": 91,
   "metadata": {},
   "outputs": [],
   "source": [
    "def get_new_coordinate(bm_one, transl,global_orient,pose,betas):\n",
    "    temp_bodyconfig = {}\n",
    "    temp_bodyconfig['transl'] = torch.FloatTensor(transl).cuda()\n",
    "    temp_bodyconfig['global_orient'] = torch.FloatTensor(global_orient).cuda()\n",
    "    temp_bodyconfig['body_pose'] = torch.FloatTensor(pose).cuda()\n",
    "    temp_bodyconfig['betas'] = torch.FloatTensor(betas).cuda()\n",
    "\n",
    "    smplxout = bm_one(**temp_bodyconfig)\n",
    "    joints = smplxout.joints.squeeze().detach().cpu().numpy()\n",
    "    x_axis = joints[2,:] - joints[1,:]\n",
    "    x_axis[-1] = 0\n",
    "    x_axis = x_axis / np.linalg.norm(x_axis)\n",
    "    z_axis = np.array([0,0,-1])\n",
    "    y_axis = np.cross(z_axis, x_axis)\n",
    "    y_axis = y_axis/np.linalg.norm(y_axis)\n",
    "    global_ori_new = np.stack([x_axis, y_axis, z_axis], axis=1)\n",
    "    transl_new = joints[:1,:] # put the local origin to pelvis\n",
    "\n",
    "\n",
    "    transf_rotmat = global_ori_new\n",
    "    transf_transl = transl_new\n",
    "\n",
    "    return transf_rotmat,transf_transl"
   ]
  },
  {
   "cell_type": "code",
   "execution_count": 92,
   "metadata": {},
   "outputs": [],
   "source": [
    "egobody_dataset_path = '/home/yuxinyao/datasets/egobody/smplx_camera_wearer'\n",
    "with open('/home/yuxinyao/body_models/Mosh_related/CMU.json') as f:\n",
    "        marker_cmu_41 = list(json.load(f)['markersets'][0]['indices'].values())\n",
    "\n",
    "with open('/home/yuxinyao/body_models/Mosh_related/SSM2.json') as f:\n",
    "        marker_ssm_67 = list(json.load(f)['markersets'][0]['indices'].values())\n",
    "\n",
    "\n",
    "folder_seqs = glob.glob(os.path.join(egobody_dataset_path,\"recording*\"))\n",
    "\n",
    "len_subseq = 10\n",
    "bm_one_male = get_body_model('smplx','male',1,device = 'cuda')\n",
    "bm_one_female = get_body_model('smplx','female',1,device='cuda')\n",
    "bm_batch_male = get_body_model('smplx','male',len_subseq,device='cuda')\n",
    "bm_batch_female = get_body_model('smplx','female',len_subseq,device='cuda')"
   ]
  },
  {
   "cell_type": "code",
   "execution_count": 88,
   "metadata": {},
   "outputs": [
    {
     "name": "stdout",
     "output_type": "stream",
     "text": [
      "joints:[-0.19068965 -2.8048675  -2.2560668 ]\n",
      "/home/yuxinyao/datasets/egobody/canicalized-camera-wearer/er/recording_20210910_S06_S05_01/subseq_000001.pkl\n"
     ]
    }
   ],
   "source": [
    "# for record in folder_seqs:\n",
    "#     seqs = sorted(glob.glob(os.path.join(record, '*/*/*/*.pkl')))\n",
    "#     for i in range(0, len(seqs),len_subseq):\n",
    "#         first_frame_path = seqs[i]\n",
    "#         with open(first_frame_path,'rb') as f:\n",
    "#             first_frame = dict(pickle.load(f))\n",
    "#         transl_seq = np.zeros((len_subseq,3))\n",
    "#         pose_seq = np.zeros((len_subseq,63))\n",
    "#         betas_seq = np.zeros((len_subseq,10))\n",
    "#         betas = first_frame['betas']\n",
    "#         global_orient_seq = np.zeros((len_subseq,3))\n",
    "#         bodymodel_batch = bm_batch_male if str(first_frame['gender']) =='male' else bm_batch_female\n",
    "#         bodymodel_one = bm_one_male if str(first_frame['gender']) =='male' else bm_one_female\n",
    "\n",
    "#         for j in range(0,len_subseq):\n",
    "#             seq = seqs[j]\n",
    "#             with open(seq,'rb') as f:\n",
    "#                 data = dict(pickle.load(f))\n",
    "#             transl = data['transl']\n",
    "#             pose = data['body_pose']\n",
    "#             global_orient = data['global_orient']\n",
    "#             betas = data['betas'][:10]\n",
    "#             transl_seq[j,:] = transl\n",
    "#             pose_seq[j,:]= pose\n",
    "#             global_orient_seq[j,:] = global_orient\n",
    "#             betas_seq[j,:] = betas\n",
    "\n",
    "#         data_out = {}\n",
    "#         outfolder = \"/home/yuxinyao/datasets/egobody/canicalized-camera-wearer/\" + str(record[49:])\n",
    "#         if not os.path.exists(outfolder):\n",
    "#             os.makedirs(outfolder)\n",
    "#         outfilename = os.path.join(outfolder, 'subseq_{:05d}1.pkl'.format(i))\n",
    "\n",
    "\n",
    "        \n",
    "#         # transf_rotmat, transf_transl = get_new_coordinate(bodymodel_one, first_frame['transl'], first_frame['global_orient'],first_frame['body_pose'],first_frame['betas'])\n",
    "#         # get_new_coordinate\n",
    "#         temp_bodyconfig = {}\n",
    "#         temp_bodyconfig['transl'] = torch.FloatTensor(first_frame['transl']).cuda()\n",
    "#         temp_bodyconfig['global_orient'] = torch.FloatTensor(first_frame['global_orient']).cuda()\n",
    "#         temp_bodyconfig['body_pose'] = torch.FloatTensor(first_frame['body_pose']).cuda()\n",
    "#         temp_bodyconfig['betas'] = torch.FloatTensor(first_frame['betas']).cuda()\n",
    "\n",
    "#         smplxout = bodymodel_one(**temp_bodyconfig)\n",
    "#         joints = smplxout.joints.squeeze().detach().cpu().numpy()\n",
    "#         x_axis = joints[2,:] - joints[1,:]\n",
    "#         x_axis[-1] = 0\n",
    "#         x_axis = x_axis / np.linalg.norm(x_axis)\n",
    "#         z_axis = np.array([0,0,-1])\n",
    "#         y_axis = np.cross(z_axis, x_axis)\n",
    "#         y_axis = y_axis/np.linalg.norm(y_axis)\n",
    "#         global_ori_new = np.stack([x_axis, y_axis, z_axis], axis=1)\n",
    "#         # transl_new = joints[:1,:] # put the local origin to pelvis\n",
    "\n",
    "\n",
    "#         transf_rotmat = global_ori_new\n",
    "#         # transf_transl = transl_new\n",
    "\n",
    "\n",
    "# #############################################################################################################################  \n",
    "\n",
    "\n",
    "#         temp_bodyconfig_seq = {}\n",
    "#         temp_bodyconfig_seq['transl'] = torch.FloatTensor(transl_seq).cuda()\n",
    "#         temp_bodyconfig_seq['global_orient'] = torch.FloatTensor(global_orient_seq).cuda()\n",
    "#         temp_bodyconfig_seq['body_pose'] = torch.FloatTensor(pose_seq).cuda()\n",
    "#         temp_bodyconfig_seq['betas'] = torch.FloatTensor(betas_seq).cuda()\n",
    "\n",
    "#         smplx_out = bodymodel_batch(return_verts=True, **temp_bodyconfig_seq)\n",
    "#         delta_T = smplx_out.joints[:,0,:] # we output all pelvis locations\n",
    "#         delta_T = delta_T.detach().cpu().numpy() #[t, 3]\n",
    "\n",
    "#         global_ori_new = np.einsum('ij,tjk->tik', transf_rotmat.T, R.from_rotvec(global_orient_seq).as_matrix())\n",
    "#         # print(global_orient_seq.shape)\n",
    "\n",
    "#         # temp_bodyconfig_seq['global_orient'] = torch.FloatTensor(R.from_matrix(global_ori_new).as_rotvec()).cuda()\n",
    "        \n",
    "#         # smplx_out = bodymodel_batch(return_verts=True, **temp_bodyconfig_seq)\n",
    "#         # delta_T = smplx_out.joints[:,0,:] # we output all pelvis locations\n",
    "#         # delta_T = delta_T.detach().cpu().numpy() #[t, 3]\n",
    "\n",
    "#         global_ori_new = np.einsum('ij,tjk->tik', R.from_rotvec([-np.pi/2,0,0]).as_matrix(),R.from_rotvec(global_orient_seq).as_matrix())\n",
    "#         global_orient_save = R.from_matrix(global_ori_new).as_rotvec()\n",
    "\n",
    "#         # temp_bodyconfig_seq['global_orient'] = torch.FloatTensor(global_orient_save).cuda()\n",
    "        \n",
    "#         # smplx_out = bodymodel_batch(return_verts=True, **temp_bodyconfig_seq)\n",
    "#         # delta_T = smplx_out.joints[:,0,:] # we output all pelvis locations\n",
    "#         # delta_T = delta_T.detach().cpu().numpy() #[t, 3]\n",
    "\n",
    "# #############################################################################################################################\n",
    "#         # print(global_orient_save[:1,:].shape)\n",
    "#         temp_bodyconfig['global_orient'] = torch.FloatTensor(global_orient_save[:1,:]).cuda()\n",
    "#         smplxout = bodymodel_one(**temp_bodyconfig)\n",
    "#         joints = smplxout.joints.squeeze().detach().cpu().numpy()\n",
    "#         transf_transl = joints[:1,:]\n",
    "# #############################################################################################################################\n",
    "#         # print(transl_seq)\n",
    "#         transl_save = np.einsum('ij,tj->ti',R.from_rotvec([-np.pi/2,0,0]).as_matrix(),transl_seq)\n",
    "#         # print(transl_save)\n",
    "#         # transl_save = np.einsum('ij,tj->ti', transf_rotmat.T, transl_seq+delta_T-transf_transl)-delta_T\n",
    "#         transl_save = np.einsum('ij,tj->ti', transf_rotmat.T, transl_save+delta_T-transf_transl)-delta_T\n",
    "#         # transl_save = np.einsum('ij,tj->ti', transf_rotmat.T, transl_seq+delta_T-transf_transl)-delta_T\n",
    "#         # transl_save = np.einsum('ij,tj->ti', transf_rotmat.T, transl_seq) - delta_T\n",
    "#         # print(transl_save)\n",
    "#         data_out['trans'] = transl_save\n",
    "#         data_out['body_pose'] = pose_seq\n",
    "#         data_out['betas'] = betas_seq\n",
    "#         data_out['gender'] = data['gender']\n",
    "#         data_out['global_orient'] = global_orient_save\n",
    "#         data_out['transf_rotmat'] = transf_rotmat\n",
    "#         data_out['transf_transl'] = transf_transl\n",
    "#         # data_out['mocap_framerate'] = 30\n",
    "\n",
    "#         # print(global_orient_save.shape)\n",
    "#         body_param = {}\n",
    "#         body_param['transl'] = torch.FloatTensor(transl_save).cuda()\n",
    "#         body_param['global_orient'] = torch.FloatTensor(global_orient_save).cuda()\n",
    "#         body_param['betas'] = torch.FloatTensor(betas_seq).cuda()\n",
    "#         body_param['body_pose'] = torch.FloatTensor(pose_seq).cuda()\n",
    "#         smplxout = bodymodel_batch(return_verts=True, **body_param)\n",
    "#         joints = smplxout.joints[:,:22,:].detach().squeeze().cpu().numpy()\n",
    "#         print(\"joints:\"+str(joints[0,0,:]))\n",
    "#         markers_41 = smplxout.vertices[:,marker_cmu_41,:].detach().squeeze().cpu().numpy()\n",
    "#         markers_67 = smplxout.vertices[:,marker_ssm_67,:].detach().squeeze().cpu().numpy()\n",
    "#         data_out['joints'] = joints\n",
    "#         data_out['marker_cmu_41'] = markers_41\n",
    "#         data_out['marker_ssm2_67'] = markers_67\n",
    "#         with open(outfilename, 'wb') as f:\n",
    "#             pickle.dump(data_out,f)\n",
    "#         print(outfilename)\n",
    "        \n",
    "#         break\n",
    "#     break\n",
    "\n",
    "\n"
   ]
  },
  {
   "cell_type": "code",
   "execution_count": 111,
   "metadata": {},
   "outputs": [
    {
     "name": "stdout",
     "output_type": "stream",
     "text": [
      "<class 'numpy.ndarray'>\n",
      "joints:[ 8.5427964e-01 -1.4420073e-01 -2.3283064e-08]\n",
      "/home/yuxinyao/datasets/egobody/canicalized-camera-wearer/er/recording_20210910_S06_S05_01/subseq_000001test.pkl\n"
     ]
    }
   ],
   "source": [
    "for record in folder_seqs:\n",
    "    seqs = sorted(glob.glob(os.path.join(record, '*/*/*/*.pkl')))\n",
    "    for i in range(0, len(seqs),len_subseq):\n",
    "        first_frame_path = seqs[i]\n",
    "        with open(first_frame_path,'rb') as f:\n",
    "            first_frame = dict(pickle.load(f))\n",
    "        transl_seq = np.zeros((len_subseq,3))\n",
    "        pose_seq = np.zeros((len_subseq,63))\n",
    "        betas_seq = np.zeros((len_subseq,10))\n",
    "        betas = first_frame['betas']\n",
    "        global_orient_seq = np.zeros((len_subseq,3))\n",
    "        bodymodel_batch = bm_batch_male if str(first_frame['gender']) =='male' else bm_batch_female\n",
    "        bodymodel_one = bm_one_male if str(first_frame['gender']) =='male' else bm_one_female\n",
    "\n",
    "        for j in range(0,len_subseq):\n",
    "            seq = seqs[j]\n",
    "            with open(seq,'rb') as f:\n",
    "                data = dict(pickle.load(f))\n",
    "            transl = data['transl']\n",
    "            pose = data['body_pose']\n",
    "            global_orient = data['global_orient']\n",
    "            betas = data['betas'][:10]\n",
    "            transl_seq[j,:] = transl\n",
    "            pose_seq[j,:]= pose\n",
    "            global_orient_seq[j,:] = global_orient\n",
    "            betas_seq[j,:] = betas\n",
    "\n",
    "        data_out = {}\n",
    "        outfolder = \"/home/yuxinyao/datasets/egobody/canicalized-camera-wearer/\" + str(record[49:])\n",
    "        if not os.path.exists(outfolder):\n",
    "            os.makedirs(outfolder)\n",
    "        outfilename = os.path.join(outfolder, 'subseq_{:05d}1test.pkl'.format(i))\n",
    "\n",
    "# rotate to yan's coordinate \n",
    "        temp_bodyconfig = {}\n",
    "        temp_bodyconfig['transl'] = torch.FloatTensor(first_frame['transl']).cuda()\n",
    "        temp_bodyconfig['global_orient'] = torch.FloatTensor(first_frame['global_orient']).cuda()\n",
    "        temp_bodyconfig['body_pose'] = torch.FloatTensor(first_frame['body_pose']).cuda()\n",
    "        temp_bodyconfig['betas'] = torch.FloatTensor(first_frame['betas']).cuda()\n",
    "\n",
    "        smplxout = bodymodel_one(**temp_bodyconfig)\n",
    "        joints = smplxout.joints.squeeze().detach().cpu().numpy()\n",
    "        # x_axis = joints[2,:] - joints[1,:]\n",
    "        # x_axis[-1] = 0\n",
    "        # x_axis = x_axis / np.linalg.norm(x_axis)\n",
    "        # z_axis = np.array([0,0,-1])\n",
    "        # y_axis = np.cross(z_axis, x_axis)\n",
    "        # y_axis = y_axis/np.linalg.norm(y_axis)\n",
    "        # global_ori_new = np.stack([x_axis, y_axis, z_axis], axis=1)\n",
    "        global_ori_rotate = R.from_rotvec([np.pi/2,0,0]).as_matrix()\n",
    "        transl_new = joints[:1,:] # put the local origin to pelvis\n",
    "\n",
    "\n",
    "        transf_rotmat1 = global_ori_rotate\n",
    "        transf_transl1 = transl_new\n",
    "\n",
    "        temp_bodyconfig_seq = {}\n",
    "        temp_bodyconfig_seq['transl'] = torch.FloatTensor(transl_seq).cuda()\n",
    "        temp_bodyconfig_seq['global_orient'] = torch.FloatTensor(global_orient_seq).cuda()\n",
    "        temp_bodyconfig_seq['body_pose'] = torch.FloatTensor(pose_seq).cuda()\n",
    "        temp_bodyconfig_seq['betas'] = torch.FloatTensor(betas_seq).cuda()\n",
    "\n",
    "        smplx_out = bodymodel_batch(return_verts=True, **temp_bodyconfig_seq)\n",
    "        delta_T = smplx_out.joints[:,0,:] # we output all pelvis locations\n",
    "        delta_T = delta_T.detach().cpu().numpy() #[t, 3]\n",
    "\n",
    "        global_ori_1 = R.from_matrix(np.einsum('ij,tjk->tik', transf_rotmat1.T, R.from_rotvec(global_orient_seq).as_matrix())).as_rotvec()\n",
    "        transl1 = np.einsum('ij,tj->ti', transf_rotmat1.T, transl_seq+delta_T-transl_new)-delta_T\n",
    "\n",
    "#calibrate body to center \n",
    "        print(type(global_ori_1))\n",
    "        temp_bodyconfig['global_orient'] = torch.FloatTensor(global_ori_1[:1,:]).cuda()\n",
    "        temp_bodyconfig['transl'] = torch.FloatTensor(transl1[:1,:]).cuda()\n",
    "        \n",
    "        smplxout = bodymodel_one(**temp_bodyconfig)\n",
    "\n",
    "        joints = smplxout.joints.squeeze().detach().cpu().numpy()\n",
    "        x_axis = joints[2,:] - joints[1,:]\n",
    "        x_axis[-1] = 0\n",
    "        x_axis = x_axis / np.linalg.norm(x_axis)\n",
    "        z_axis = np.array([0,0,1])\n",
    "        y_axis = np.cross(z_axis, x_axis)\n",
    "        y_axis = y_axis/np.linalg.norm(y_axis)\n",
    "        global_ori_new = np.stack([x_axis, y_axis, z_axis], axis=1)\n",
    "        transl_new = joints[:1,:] # put the local origin to pelvis\n",
    "\n",
    "        transf_rotmat = global_ori_new\n",
    "        transf_transl = transl_new\n",
    "\n",
    "        temp_bodyconfig_seq['transl'] = torch.FloatTensor(transl1).cuda()\n",
    "        temp_bodyconfig_seq['global_orient'] = torch.FloatTensor(global_ori_1).cuda()\n",
    "\n",
    "        smplx_out = bodymodel_batch(return_verts=True, **temp_bodyconfig_seq)\n",
    "        delta_T = smplx_out.joints[:,0,:] # we output all pelvis locations\n",
    "        delta_T = delta_T.detach().cpu().numpy() #[t, 3]\n",
    "\n",
    "        global_ori_save = R.from_matrix(np.einsum('ij,tjk->tik', transf_rotmat.T, R.from_rotvec(global_ori_1).as_matrix())).as_rotvec()\n",
    "        transl_save = np.einsum('ij,tj->ti', transf_rotmat.T, transl1+delta_T-transl_new)-delta_T\n",
    "\n",
    "\n",
    "# #############################################################################################################################\n",
    "#         temp_bodyconfig['global_orient'] = torch.FloatTensor(global_orient_save[:1,:]).cuda()\n",
    "#         smplxout = bodymodel_one(**temp_bodyconfig)\n",
    "#         joints = smplxout.joints.squeeze().detach().cpu().numpy()\n",
    "#         transf_transl = joints[:1,:]\n",
    "# #############################################################################################################################\n",
    "#         transl_save = np.einsum('ij,tj->ti',R.from_rotvec([-np.pi/2,0,0]).as_matrix(),transl_seq)\n",
    "#         transl_save = np.einsum('ij,tj->ti', transf_rotmat.T, transl_save+delta_T-transf_transl)-delta_T\n",
    "        data_out['trans'] = transl_save\n",
    "        data_out['body_pose'] = pose_seq\n",
    "        data_out['betas'] = betas_seq\n",
    "        data_out['gender'] = data['gender']\n",
    "        data_out['global_orient'] = global_ori_save\n",
    "        # data_out['transf_rotmat'] = transf_rotmat\n",
    "        # data_out['transf_transl'] = transf_transl\n",
    "#         # data_out['mocap_framerate'] = 30\n",
    "\n",
    "#         # print(global_orient_save.shape)\n",
    "        body_param = {}\n",
    "        body_param['transl'] = torch.FloatTensor(transl_save).cuda()\n",
    "        body_param['global_orient'] = torch.FloatTensor(global_ori_save).cuda()\n",
    "        body_param['betas'] = torch.FloatTensor(betas_seq).cuda()\n",
    "        body_param['body_pose'] = torch.FloatTensor(pose_seq).cuda()\n",
    "        smplxout = bodymodel_batch(return_verts=True, **body_param)\n",
    "        joints = smplxout.joints[:,:22,:].detach().squeeze().cpu().numpy()\n",
    "        print(\"joints:\"+str(joints[0,0,:]))\n",
    "        markers_41 = smplxout.vertices[:,marker_cmu_41,:].detach().squeeze().cpu().numpy()\n",
    "        markers_67 = smplxout.vertices[:,marker_ssm_67,:].detach().squeeze().cpu().numpy()\n",
    "        data_out['joints'] = joints\n",
    "        data_out['marker_cmu_41'] = markers_41\n",
    "        data_out['marker_ssm2_67'] = markers_67\n",
    "        with open(outfilename, 'wb') as f:\n",
    "            pickle.dump(data_out,f)\n",
    "        print(outfilename)\n",
    "        \n",
    "        break\n",
    "    break\n"
   ]
  },
  {
   "cell_type": "code",
   "execution_count": 83,
   "metadata": {},
   "outputs": [],
   "source": [
    "with open('/home/yuxinyao/datasets/egobody/canicalized-camera-wearer/er/recording_20210910_S06_S05_01/subseq_000001.pkl', 'rb') as f:\n",
    "    read = dict(pickle.load(f))\n"
   ]
  },
  {
   "cell_type": "code",
   "execution_count": 84,
   "metadata": {},
   "outputs": [
    {
     "name": "stdout",
     "output_type": "stream",
     "text": [
      "bparam[trans] shape: torch.Size([10, 3])\n",
      "bparam[global_orient] shape: torch.Size([10, 3])\n",
      "bparam[betas] shape: torch.Size([10, 10])\n",
      "bparam[body_pose] shape: torch.Size([10, 63])\n"
     ]
    }
   ],
   "source": [
    "bm = get_body_model('smplx', read['gender'], 10, device='cpu')\n",
    "bparam = {}\n",
    "bparam['trans'] = read['trans']\n",
    "# print(\"transl: \"+str(bparam['trans']))\n",
    "bparam['global_orient'] = read['global_orient']\n",
    "bparam['betas'] = read['betas']\n",
    "bparam['body_pose'] = read['body_pose']\n",
    "# bparam['left_hand_pose'] = data_bparams[:,69:81]\n",
    "# bparam['right_hand_pose'] = data_bparams[:,81:]\n",
    "\n",
    "\n",
    "## obtain body mesh sequences\n",
    "for key in bparam:\n",
    "    # if key == 'betas':\n",
    "    #     bparam[key] = torch.tensor(bparam[key], dtype=torch.float32)\n",
    "    # else:\n",
    "    bparam[key] = torch.FloatTensor(bparam[key])\n",
    "    print(\"bparam[{}] shape: {}\".format(key, bparam[key].shape))\n",
    "# print(\"bm.batchsize = \"+str(bm.batch_size))\n",
    "# print(bparam)\n",
    "verts_seq = bm(return_verts=True, **bparam).vertices.detach().cpu().numpy() #[t,verts, 3]\n",
    "jts = bm(return_verts=True, **bparam).joints[:,:22].detach().cpu().numpy() #[t,J, 3]"
   ]
  },
  {
   "cell_type": "code",
   "execution_count": 85,
   "metadata": {},
   "outputs": [
    {
     "data": {
      "text/plain": [
       "array([[ 0.00093888, -0.34094906,  0.01028696],\n",
       "       [ 0.00093888, -0.34094906,  0.01028696],\n",
       "       [ 0.00093888, -0.34094906,  0.01028696],\n",
       "       [ 0.00093888, -0.34094906,  0.01028696],\n",
       "       [ 0.00093888, -0.34094906,  0.01028696],\n",
       "       [ 0.00093888, -0.34094906,  0.01028696],\n",
       "       [ 0.00093888, -0.34094906,  0.01028696],\n",
       "       [ 0.00093888, -0.34094906,  0.01028696],\n",
       "       [ 0.00093888, -0.34094906,  0.01028696],\n",
       "       [ 0.00093888, -0.34094906,  0.01028696]], dtype=float32)"
      ]
     },
     "execution_count": 85,
     "metadata": {},
     "output_type": "execute_result"
    }
   ],
   "source": [
    "jts[:,0,:]"
   ]
  },
  {
   "cell_type": "code",
   "execution_count": 77,
   "metadata": {},
   "outputs": [
    {
     "data": {
      "text/plain": [
       "array([[ 0.00093888, -0.34094906,  0.01028696],\n",
       "       [ 0.00093888, -0.34094906,  0.01028696],\n",
       "       [ 0.00093888, -0.34094906,  0.01028696],\n",
       "       [ 0.00093888, -0.34094906,  0.01028696],\n",
       "       [ 0.00093888, -0.34094906,  0.01028696],\n",
       "       [ 0.00093888, -0.34094906,  0.01028696],\n",
       "       [ 0.00093888, -0.34094906,  0.01028696],\n",
       "       [ 0.00093888, -0.34094906,  0.01028696],\n",
       "       [ 0.00093888, -0.34094906,  0.01028696],\n",
       "       [ 0.00093888, -0.34094906,  0.01028696]], dtype=float32)"
      ]
     },
     "execution_count": 77,
     "metadata": {},
     "output_type": "execute_result"
    }
   ],
   "source": [
    "jts[:,0,:]"
   ]
  },
  {
   "cell_type": "code",
   "execution_count": 1,
   "metadata": {},
   "outputs": [],
   "source": [
    "import pickle\n",
    "from __future__ import absolute_import\n",
    "from __future__ import division\n",
    "from __future__ import print_function\n",
    "\n",
    "import os, sys, glob\n",
    "import numpy as np\n",
    "from tqdm import tqdm\n",
    "import torch\n",
    "import smplx\n",
    "from sklearn.neighbors import NearestNeighbors\n",
    "from scipy.spatial.transform import Rotation as R\n",
    "from scipy.ndimage import gaussian_filter1d\n",
    "import json\n",
    "import csv\n",
    "import pdb\n",
    "import pickle"
   ]
  },
  {
   "cell_type": "code",
   "execution_count": 2,
   "metadata": {},
   "outputs": [],
   "source": [
    "with open('/home/yuxinyao/datasets/egobody/canicalized-camera-wearer-grab-openpose/recording_20220312_S28_S29_04/subseq_02622.pkl', 'rb') as f:\n",
    "    data = dict(pickle.load(f))\n",
    "\n",
    "with open('/home/yuxinyao/datasets/egobody/canicalized-camera-wearer-grab-openpose-unchanged/recording_20220312_S28_S29_04/subseq_02622.pkl', 'rb') as f:\n",
    "    originalf = dict(pickle.load(f))"
   ]
  },
  {
   "cell_type": "code",
   "execution_count": 3,
   "metadata": {},
   "outputs": [],
   "source": [
    "testbp = {}\n",
    "testbp['transl'] = data['trans']\n",
    "testbp['global_orient'] = data['global_orient']\n",
    "testbp['betas'] = data['betas']\n",
    "testbp['body_pose'] = data['body_pose']\n",
    "testbp['left_hand_pose'] = data['left_hand_pose']\n",
    "testbp['right_hand_pose'] = data['right_hand_pose']\n",
    "\n",
    "original = {}\n",
    "original['transl'] = originalf['trans']\n",
    "original['global_orient'] = originalf['global_orient']\n",
    "original['betas'] = originalf['betas']\n",
    "original['body_pose'] = originalf['body_pose']\n",
    "original['left_hand_pose'] = originalf['left_hand_pose']\n",
    "original['right_hand_pose'] = originalf['right_hand_pose']"
   ]
  },
  {
   "cell_type": "code",
   "execution_count": 16,
   "metadata": {},
   "outputs": [],
   "source": [
    "testbp['transf_rotmat'] = data['transf_rotmat'] \n",
    "testbp['transf_transl'] = data['transf_transl'] \n",
    "testbp['delta_T'] = data['delta_T']\n",
    "testbp['transf_rotate_xaxis'] = data['transf_rotate_xaxis']\n",
    "testbp['transf_transl_xaxis'] = data['transf_transl_xaxis']\n",
    "testbp['delta_T_rotate'] = data['delta_T_rotate']\n",
    "transf_rotmat =testbp['transf_rotmat']\n",
    "transf_transl =testbp['transf_transl']\n",
    "delta_T=testbp['delta_T']\n",
    "transf_rotate_xaxis=testbp['transf_rotate_xaxis']\n",
    "transf_transl_xaxis=testbp['transf_transl_xaxis']\n",
    "delta_T_rotate=testbp['delta_T_rotate']"
   ]
  },
  {
   "cell_type": "code",
   "execution_count": 5,
   "metadata": {},
   "outputs": [
    {
     "data": {
      "text/plain": [
       "array([[-1.40475595,  0.50640678,  2.51098347],\n",
       "       [-1.40515757,  0.50646621,  2.51406598],\n",
       "       [-1.40560806,  0.50657243,  2.51727271],\n",
       "       [-1.40592551,  0.5067845 ,  2.52022505],\n",
       "       [-1.40634954,  0.50716275,  2.52266359],\n",
       "       [-1.40668905,  0.50763053,  2.52489638],\n",
       "       [-1.40683055,  0.50832957,  2.52634668],\n",
       "       [-1.40707588,  0.50922692,  2.52783298],\n",
       "       [-1.4072057 ,  0.50985724,  2.52893209],\n",
       "       [-1.40764618,  0.51034427,  2.53017306]])"
      ]
     },
     "execution_count": 5,
     "metadata": {},
     "output_type": "execute_result"
    }
   ],
   "source": [
    "original['transl']"
   ]
  },
  {
   "cell_type": "code",
   "execution_count": 6,
   "metadata": {},
   "outputs": [
    {
     "data": {
      "text/plain": [
       "array([[-0.00044794,  0.35737169, -0.01654189],\n",
       "       [-0.00323977,  0.35600461, -0.01660131],\n",
       "       [-0.00613363,  0.35455147, -0.01670753],\n",
       "       [-0.00882906,  0.35330578, -0.0169196 ],\n",
       "       [-0.01100361,  0.35212358, -0.01729785],\n",
       "       [-0.01301029,  0.3510873 , -0.01776563],\n",
       "       [-0.01433901,  0.35048906, -0.01846467],\n",
       "       [-0.0156686 ,  0.34978092, -0.01936202],\n",
       "       [-0.01666835,  0.34930615, -0.01999234],\n",
       "       [-0.01770306,  0.34849166, -0.02047937]])"
      ]
     },
     "execution_count": 6,
     "metadata": {},
     "output_type": "execute_result"
    }
   ],
   "source": [
    "testbp['transl']"
   ]
  },
  {
   "cell_type": "code",
   "execution_count": 25,
   "metadata": {},
   "outputs": [],
   "source": [
    "import torchgeometry as tgm\n",
    "from torch.nn import functional as F"
   ]
  },
  {
   "cell_type": "code",
   "execution_count": 7,
   "metadata": {},
   "outputs": [],
   "source": [
    "global_orient_seq = originalf['global_orient']\n",
    "transl_seq = originalf['trans']"
   ]
  },
  {
   "cell_type": "code",
   "execution_count": 27,
   "metadata": {},
   "outputs": [
    {
     "name": "stdout",
     "output_type": "stream",
     "text": [
      "torch.Size([3, 3])\n"
     ]
    }
   ],
   "source": [
    "print(transf_rotmat.shape)"
   ]
  },
  {
   "cell_type": "code",
   "execution_count": 47,
   "metadata": {},
   "outputs": [
    {
     "data": {
      "text/plain": [
       "torch.Size([3, 3])"
      ]
     },
     "execution_count": 47,
     "metadata": {},
     "output_type": "execute_result"
    }
   ],
   "source": [
    "transf_rotmat.T.shape"
   ]
  },
  {
   "cell_type": "code",
   "execution_count": 53,
   "metadata": {},
   "outputs": [
    {
     "data": {
      "text/plain": [
       "torch.Size([10, 4, 4])"
      ]
     },
     "execution_count": 53,
     "metadata": {},
     "output_type": "execute_result"
    }
   ],
   "source": [
    "tgm.angle_axis_to_rotation_matrix(global_ori_save).shape"
   ]
  },
  {
   "cell_type": "code",
   "execution_count": 54,
   "metadata": {},
   "outputs": [
    {
     "data": {
      "text/plain": [
       "torch.Size([10, 3])"
      ]
     },
     "execution_count": 54,
     "metadata": {},
     "output_type": "execute_result"
    }
   ],
   "source": [
    "global_ori_save.shape"
   ]
  },
  {
   "cell_type": "code",
   "execution_count": 100,
   "metadata": {},
   "outputs": [],
   "source": [
    "transf_transl = torch.Tensor(transf_transl)\n",
    "delta_T  = torch.Tensor(delta_T)\n",
    "transf_rotmat = torch.Tensor(transf_rotmat)\n",
    "\n",
    "transf_rotate_xaxis = torch.Tensor(transf_rotate_xaxis)\n",
    "delta_T_rotate = torch.Tensor(delta_T_rotate)\n",
    "transf_transl_xaxis = torch.Tensor(transf_transl_xaxis) \n",
    "trans_save = torch.Tensor(testbp['transl'])\n",
    "global_ori_save = torch.Tensor(testbp['global_orient'])\n",
    "\n",
    "global_ori = tgm.angle_axis_to_rotation_matrix(global_ori_save)[:,:3,:3]\n",
    "# global_ori_new = torch.einsum('ij,bjk->ik', transf_rotmat.permute(1,0), global_ori)\n",
    "global_ori_new = torch.einsum('ij,tjk->tik', torch.linalg.inv(transf_rotmat.T),tgm.angle_axis_to_rotation_matrix(global_ori_save)[:,:3,:3])\n",
    "f = F.pad(global_ori_new, [0,1])\n",
    "f.shape\n",
    "glo = tgm.rotation_matrix_to_angle_axis(f).contiguous()\n",
    "# glorot = F.pad(global_ori_new, [0,1])\n",
    "# glorot = tgm.rotation_matrix_to_angle_axis(glorot).view(-1, 3).contiguous()\n",
    "transl = torch.matmul((torch.linalg.inv(transf_rotmat.T)),((trans_save[2:]+delta_T[2:]).T)).T+transf_transl-delta_T[2:]\n",
    "\n"
   ]
  },
  {
   "cell_type": "code",
   "execution_count": 99,
   "metadata": {},
   "outputs": [
    {
     "data": {
      "text/plain": [
       "tensor([[1.3684, 0.9645, 0.9895],\n",
       "        [1.3688, 0.9674, 0.9903],\n",
       "        [1.3691, 0.9705, 0.9907],\n",
       "        [1.3687, 0.9726, 0.9914],\n",
       "        [1.3676, 0.9731, 0.9930],\n",
       "        [1.3654, 0.9737, 0.9957],\n",
       "        [1.3620, 0.9741, 1.0001],\n",
       "        [1.3578, 0.9752, 1.0056],\n",
       "        [1.3524, 0.9768, 1.0110],\n",
       "        [1.3483, 0.9789, 1.0147]])"
      ]
     },
     "execution_count": 99,
     "metadata": {},
     "output_type": "execute_result"
    }
   ],
   "source": [
    "glo.view(-1,3)"
   ]
  },
  {
   "cell_type": "code",
   "execution_count": 45,
   "metadata": {},
   "outputs": [
    {
     "data": {
      "text/plain": [
       "(10, 3, 3)"
      ]
     },
     "execution_count": 45,
     "metadata": {},
     "output_type": "execute_result"
    }
   ],
   "source": [
    "R.from_rotvec(global_ori_save).as_matrix().shape"
   ]
  },
  {
   "cell_type": "code",
   "execution_count": 70,
   "metadata": {},
   "outputs": [],
   "source": [
    "testbp['transf_rotmat'] = data['transf_rotmat'] \n",
    "testbp['transf_transl'] = data['transf_transl'] \n",
    "testbp['delta_T'] = data['delta_T']\n",
    "testbp['transf_rotate_xaxis'] = data['transf_rotate_xaxis']\n",
    "testbp['transf_transl_xaxis'] = data['transf_transl_xaxis']\n",
    "testbp['delta_T_rotate'] = data['delta_T_rotate']\n",
    "transf_rotmat =testbp['transf_rotmat']\n",
    "transf_transl =testbp['transf_transl']\n",
    "delta_T=testbp['delta_T']\n",
    "transf_rotate_xaxis=testbp['transf_rotate_xaxis']\n",
    "transf_transl_xaxis=testbp['transf_transl_xaxis']\n",
    "delta_T_rotate=testbp['delta_T_rotate']\n",
    "transl_save = data['trans'][2:]\n",
    "global_ori_save = data['global_orient'][2:]\n",
    "transl_rotate_recover  = ((np.linalg.inv(transf_rotmat.T))@((transl_save+delta_T[2:]).T)).T+transf_transl-delta_T[2:]\n",
    "global_ori_rotate_recover = R.from_matrix(np.einsum('ij,tjk->tik', np.linalg.inv(transf_rotmat.T),R.from_rotvec(global_ori_save).as_matrix())).as_rotvec()\n",
    "\n",
    "transl_seq_recover = ((np.linalg.inv(transf_rotate_xaxis.T))@((transl_rotate_recover+delta_T_rotate[2:]).T)).T +transf_transl_xaxis-delta_T_rotate[2:]\n",
    "global_orient_seq_recover = R.from_matrix(np.einsum('ij,tjk->tik', np.linalg.inv(transf_rotate_xaxis.T),R.from_rotvec(global_ori_rotate_recover).as_matrix())).as_rotvec()\n",
    "\n"
   ]
  },
  {
   "cell_type": "code",
   "execution_count": 71,
   "metadata": {},
   "outputs": [
    {
     "data": {
      "text/plain": [
       "array([[1.36913013, 0.97051295, 0.99074242],\n",
       "       [1.36871214, 0.97259716, 0.99137432],\n",
       "       [1.36756023, 0.97309061, 0.99304989],\n",
       "       [1.36540973, 0.97370596, 0.99573563],\n",
       "       [1.36203445, 0.97405217, 1.0001178 ],\n",
       "       [1.35784646, 0.97516002, 1.00557762],\n",
       "       [1.35243652, 0.97681134, 1.01101223],\n",
       "       [1.34829781, 0.9788817 , 1.01474815]])"
      ]
     },
     "execution_count": 71,
     "metadata": {},
     "output_type": "execute_result"
    }
   ],
   "source": [
    "global_ori_rotate_recover"
   ]
  },
  {
   "cell_type": "code",
   "execution_count": 14,
   "metadata": {},
   "outputs": [
    {
     "data": {
      "text/plain": [
       "array([[1.36844411, 0.96448842, 0.98946256],\n",
       "       [1.36881056, 0.96738951, 0.99030318],\n",
       "       [1.36913018, 0.97051298, 0.99074241],\n",
       "       [1.36871221, 0.97259721, 0.99137436],\n",
       "       [1.36756025, 0.97309063, 0.99304983],\n",
       "       [1.3654098 , 0.97370601, 0.99573551],\n",
       "       [1.36203453, 0.97405223, 1.00011773],\n",
       "       [1.35784643, 0.97516   , 1.00557764],\n",
       "       [1.35243657, 0.97681137, 1.01101212],\n",
       "       [1.34829786, 0.97888174, 1.01474806]])"
      ]
     },
     "execution_count": 14,
     "metadata": {},
     "output_type": "execute_result"
    }
   ],
   "source": [
    "global_ori_rotate_recover"
   ]
  },
  {
   "cell_type": "code",
   "execution_count": 17,
   "metadata": {},
   "outputs": [],
   "source": [
    "global_ori_rotate = R.from_matrix(np.einsum('ij,tjk->tik', transf_rotate_xaxis.T, R.from_rotvec(global_orient_seq).as_matrix())).as_rotvec()\n",
    "transl_rotate = np.einsum('ij,tj->ti', transf_rotate_xaxis.T, transl_seq+delta_T_rotate-transf_transl_xaxis)-delta_T_rotate\n",
    "\n",
    "#calibrate\n",
    "# transf_rotmat, transf_transl = get_new_coordinate(bodymodel_one, betas_seq[:1,:], transl_rotate[:1,:], pose_seq[:1,:],global_ori_rotate[:1,:])\n",
    "\n",
    "# delta_T = calc_calibrate_offset(bodymodel_batch, betas_seq, transl_rotate, pose_seq,global_ori_rotate)\n",
    "\n",
    "global_ori_save = R.from_matrix(np.einsum('ij,tjk->tik', transf_rotmat.T, R.from_rotvec(global_ori_rotate).as_matrix())).as_rotvec()\n",
    "transl_save = np.einsum('ij,tj->ti', transf_rotmat.T, transl_rotate+delta_T-transf_transl)-delta_T\n"
   ]
  },
  {
   "cell_type": "code",
   "execution_count": 18,
   "metadata": {},
   "outputs": [
    {
     "data": {
      "text/plain": [
       "array([[1.36844402, 0.96448832, 0.98946266],\n",
       "       [1.36881053, 0.96738946, 0.99030311],\n",
       "       [1.36913015, 0.97051292, 0.99074242],\n",
       "       [1.36871216, 0.97259713, 0.99137432],\n",
       "       [1.36756025, 0.97309059, 0.99304989],\n",
       "       [1.36540975, 0.97370593, 0.99573563],\n",
       "       [1.36203447, 0.97405215, 1.0001178 ],\n",
       "       [1.35784647, 0.97516   , 1.00557762],\n",
       "       [1.35243654, 0.97681131, 1.01101223],\n",
       "       [1.34829783, 0.97888168, 1.01474815]])"
      ]
     },
     "execution_count": 18,
     "metadata": {},
     "output_type": "execute_result"
    }
   ],
   "source": [
    "global_ori_rotate"
   ]
  },
  {
   "cell_type": "code",
   "execution_count": 177,
   "metadata": {},
   "outputs": [],
   "source": [
    "transl_rotate_recover  = ((np.linalg.inv(transf_rotmat.T))@((transl_save+delta_T).T)).T+transf_transl-delta_T\n",
    "global_ori_rotate_recover = R.from_matrix(np.einsum('ij,tjk->tik', np.linalg.inv(transf_rotmat.T),R.from_rotvec(global_ori_save).as_matrix())).as_rotvec()\n",
    "\n",
    "transl_seq_recover = ((np.linalg.inv(transf_rotate_xaxis.T))@((transl_rotate_recover+delta_T_rotate).T)).T +transf_transl_xaxis-delta_T_rotate\n",
    "global_orient_seq_recover = R.from_matrix(np.einsum('ij,tjk->tik', np.linalg.inv(transf_rotate_xaxis.T),R.from_rotvec(global_ori_rotate_recover).as_matrix())).as_rotvec()"
   ]
  },
  {
   "cell_type": "code",
   "execution_count": 178,
   "metadata": {},
   "outputs": [
    {
     "data": {
      "text/plain": [
       "array([[-2.5225346 ,  0.02338093, -1.82928648],\n",
       "       [-2.51955103,  0.02143599, -1.83144608],\n",
       "       [-2.51672935,  0.01891195, -1.8335208 ],\n",
       "       [-2.51495527,  0.01754975, -1.83559242],\n",
       "       [-2.51399397,  0.01865696, -1.83785191],\n",
       "       [-2.51275157,  0.02059953, -1.84158698],\n",
       "       [-2.51111387,  0.02438859, -1.84715357],\n",
       "       [-2.50852655,  0.02847916, -1.8545101 ],\n",
       "       [-2.50620865,  0.0320554 , -1.86312297],\n",
       "       [-2.50412559,  0.03364165, -1.86996499]])"
      ]
     },
     "execution_count": 178,
     "metadata": {},
     "output_type": "execute_result"
    }
   ],
   "source": [
    "global_orient_seq_recover"
   ]
  },
  {
   "cell_type": "code",
   "execution_count": 179,
   "metadata": {},
   "outputs": [
    {
     "data": {
      "text/plain": [
       "array([[-2.52253461,  0.02338095, -1.82928646],\n",
       "       [-2.51955104,  0.02143601, -1.83144605],\n",
       "       [-2.51672935,  0.01891197, -1.83352077],\n",
       "       [-2.51495528,  0.01754977, -1.83559239],\n",
       "       [-2.51399398,  0.01865698, -1.83785188],\n",
       "       [-2.51275158,  0.02059955, -1.84158695],\n",
       "       [-2.51111388,  0.02438861, -1.84715354],\n",
       "       [-2.50852656,  0.02847919, -1.85451007],\n",
       "       [-2.50620866,  0.03205542, -1.86312294],\n",
       "       [-2.5041256 ,  0.03364168, -1.86996496]])"
      ]
     },
     "execution_count": 179,
     "metadata": {},
     "output_type": "execute_result"
    }
   ],
   "source": [
    "original['global_orient']"
   ]
  },
  {
   "cell_type": "code",
   "execution_count": 166,
   "metadata": {},
   "outputs": [
    {
     "data": {
      "text/plain": [
       "array([[1.36844402, 0.96448832, 0.98946266],\n",
       "       [1.36881053, 0.96738946, 0.99030311],\n",
       "       [1.36913015, 0.97051292, 0.99074242],\n",
       "       [1.36871216, 0.97259713, 0.99137432],\n",
       "       [1.36756025, 0.97309059, 0.99304989],\n",
       "       [1.36540975, 0.97370593, 0.99573563],\n",
       "       [1.36203447, 0.97405215, 1.0001178 ],\n",
       "       [1.35784647, 0.97516   , 1.00557762],\n",
       "       [1.35243654, 0.97681131, 1.01101223],\n",
       "       [1.34829783, 0.97888168, 1.01474815]])"
      ]
     },
     "execution_count": 166,
     "metadata": {},
     "output_type": "execute_result"
    }
   ],
   "source": [
    "global_ori_rotate"
   ]
  },
  {
   "cell_type": "code",
   "execution_count": 155,
   "metadata": {},
   "outputs": [
    {
     "data": {
      "text/plain": [
       "array([[1.368444  , 0.96448834, 0.98946266],\n",
       "       [1.36881052, 0.96738948, 0.99030311],\n",
       "       [1.36913013, 0.97051295, 0.99074242],\n",
       "       [1.36871214, 0.97259716, 0.99137432],\n",
       "       [1.36756023, 0.97309061, 0.99304989],\n",
       "       [1.36540973, 0.97370596, 0.99573563],\n",
       "       [1.36203445, 0.97405217, 1.0001178 ],\n",
       "       [1.35784646, 0.97516002, 1.00557762],\n",
       "       [1.35243652, 0.97681134, 1.01101223],\n",
       "       [1.34829781, 0.9788817 , 1.01474815]])"
      ]
     },
     "execution_count": 155,
     "metadata": {},
     "output_type": "execute_result"
    }
   ],
   "source": [
    "R.from_matrix(np.einsum('ij,tjk->tik', np.linalg.inv(transf_rotmat.T),R.from_rotvec(global_ori_save).as_matrix())).as_rotvec()"
   ]
  },
  {
   "cell_type": "code",
   "execution_count": 153,
   "metadata": {},
   "outputs": [],
   "source": [
    "transl_rotate_recover = ((np.linalg.inv(transf_rotmat.T))@((transl_save+delta_T).T)).T+transf_transl-delta_T"
   ]
  },
  {
   "cell_type": "code",
   "execution_count": 142,
   "metadata": {},
   "outputs": [
    {
     "data": {
      "text/plain": [
       "array([[-6.77760367e-09,  8.88617871e-09,  0.00000000e+00],\n",
       "       [ 2.18871659e-03, -2.20740512e-03, -5.94258308e-05],\n",
       "       [ 4.49163298e-03, -4.48394533e-03, -1.65641308e-04],\n",
       "       [ 6.53449196e-03, -6.63889300e-03, -3.77714634e-04],\n",
       "       [ 8.35050052e-03, -8.32068219e-03, -7.55965710e-04],\n",
       "       [ 9.97452566e-03, -9.89012766e-03, -1.22374296e-03],\n",
       "       [ 1.09665707e-02, -1.09574795e-02, -1.92278624e-03],\n",
       "       [ 1.20630072e-02, -1.19904882e-02, -2.82013416e-03],\n",
       "       [ 1.28327838e-02, -1.27856856e-02, -3.45045328e-03],\n",
       "       [ 1.39356028e-02, -1.35052790e-02, -3.93748283e-03]])"
      ]
     },
     "execution_count": 142,
     "metadata": {},
     "output_type": "execute_result"
    }
   ],
   "source": [
    "transl_seq = ((np.linalg.inv(transf_rotate_xaxis.T))@((transl_save+delta_T).T)).T+transf_transl-delta_T"
   ]
  },
  {
   "cell_type": "code",
   "execution_count": 148,
   "metadata": {},
   "outputs": [
    {
     "data": {
      "text/plain": [
       "array([[ 0.00000000e+00, -1.11758709e-08,  0.00000000e+00],\n",
       "       [-4.01616096e-04,  3.08250263e-03, -5.94258308e-05],\n",
       "       [-8.52108002e-04,  6.28923252e-03, -1.65641308e-04],\n",
       "       [-1.16956234e-03,  9.24156979e-03, -3.77714634e-04],\n",
       "       [-1.59358978e-03,  1.16801150e-02, -7.55965710e-04],\n",
       "       [-1.93309784e-03,  1.39129050e-02, -1.22374296e-03],\n",
       "       [-2.07459927e-03,  1.53632052e-02, -1.92278624e-03],\n",
       "       [-2.31993198e-03,  1.68495066e-02, -2.82013416e-03],\n",
       "       [-2.44975090e-03,  1.79486163e-02, -3.45045328e-03],\n",
       "       [-2.89022923e-03,  1.91895850e-02, -3.93748283e-03]])"
      ]
     },
     "execution_count": 148,
     "metadata": {},
     "output_type": "execute_result"
    }
   ],
   "source": [
    "transl_rotate+delta_T-transf_transl"
   ]
  },
  {
   "cell_type": "code",
   "execution_count": 94,
   "metadata": {},
   "outputs": [],
   "source": [
    "a = transl_save + delta_T\n",
    "a = np.einsum('ij,tj->ti',a,np.linalg.inv(transf_rotmat))"
   ]
  },
  {
   "cell_type": "code",
   "execution_count": 95,
   "metadata": {},
   "outputs": [
    {
     "data": {
      "text/plain": [
       "array([[-0.00044799,  0.35737162, -0.01654189],\n",
       "       [-0.0008496 ,  0.36045413, -0.01660131],\n",
       "       [-0.0013001 ,  0.36366086, -0.01670753],\n",
       "       [-0.00161755,  0.3666132 , -0.0169196 ],\n",
       "       [-0.00204158,  0.36905174, -0.01729785],\n",
       "       [-0.00238109,  0.37128453, -0.01776563],\n",
       "       [-0.00252259,  0.37273483, -0.01846467],\n",
       "       [-0.00276792,  0.37422113, -0.01936202],\n",
       "       [-0.00289774,  0.37532024, -0.01999234],\n",
       "       [-0.00333822,  0.37656121, -0.02047937]])"
      ]
     },
     "execution_count": 95,
     "metadata": {},
     "output_type": "execute_result"
    }
   ],
   "source": [
    "transl_rotate"
   ]
  },
  {
   "cell_type": "code",
   "execution_count": 96,
   "metadata": {},
   "outputs": [
    {
     "data": {
      "text/plain": [
       "array([[-1.28150448e-17, -4.01616096e-04, -8.52108002e-04,\n",
       "        -1.16956234e-03, -1.59358978e-03, -1.93309784e-03,\n",
       "        -2.07459927e-03, -2.31993198e-03, -2.44975090e-03,\n",
       "        -2.89022923e-03],\n",
       "       [-1.11758709e-08,  3.08250263e-03,  6.28923252e-03,\n",
       "         9.24156979e-03,  1.16801150e-02,  1.39129050e-02,\n",
       "         1.53632052e-02,  1.68495066e-02,  1.79486163e-02,\n",
       "         1.91895850e-02],\n",
       "       [ 0.00000000e+00, -5.94258308e-05, -1.65641308e-04,\n",
       "        -3.77714634e-04, -7.55965710e-04, -1.22374296e-03,\n",
       "        -1.92278624e-03, -2.82013416e-03, -3.45045328e-03,\n",
       "        -3.93748283e-03]])"
      ]
     },
     "execution_count": 96,
     "metadata": {},
     "output_type": "execute_result"
    }
   ],
   "source": [
    "a"
   ]
  },
  {
   "cell_type": "code",
   "execution_count": 26,
   "metadata": {},
   "outputs": [
    {
     "data": {
      "text/plain": [
       "array([[-0.00044794,  0.35737169, -0.01654189],\n",
       "       [-0.00323977,  0.35600461, -0.01660131],\n",
       "       [-0.00613363,  0.35455147, -0.01670753],\n",
       "       [-0.00882906,  0.35330578, -0.0169196 ],\n",
       "       [-0.01100361,  0.35212358, -0.01729785],\n",
       "       [-0.01301029,  0.3510873 , -0.01776563],\n",
       "       [-0.01433901,  0.35048906, -0.01846467],\n",
       "       [-0.0156686 ,  0.34978092, -0.01936202],\n",
       "       [-0.01666835,  0.34930615, -0.01999234],\n",
       "       [-0.01770306,  0.34849166, -0.02047937]])"
      ]
     },
     "execution_count": 26,
     "metadata": {},
     "output_type": "execute_result"
    }
   ],
   "source": [
    "transl_save"
   ]
  },
  {
   "cell_type": "code",
   "execution_count": 29,
   "metadata": {},
   "outputs": [
    {
     "ename": "NameError",
     "evalue": "name 'inner' is not defined",
     "output_type": "error",
     "traceback": [
      "\u001b[0;31m---------------------------------------------------------------------------\u001b[0m",
      "\u001b[0;31mNameError\u001b[0m                                 Traceback (most recent call last)",
      "\u001b[1;32m/home/yuxinyao/GAMMA-release/exp_GAMMAPrimitive/canonicalize_batch.ipynb Cell 22\u001b[0m in \u001b[0;36m<cell line: 1>\u001b[0;34m()\u001b[0m\n\u001b[0;32m----> <a href='vscode-notebook-cell:/home/yuxinyao/GAMMA-release/exp_GAMMAPrimitive/canonicalize_batch.ipynb#ch0000021?line=0'>1</a>\u001b[0m inner(transl_rotate\u001b[39m+\u001b[39mdelta_T\u001b[39m-\u001b[39mtransf_transl, transf_rotmat\u001b[39m.\u001b[39mT)\n",
      "\u001b[0;31mNameError\u001b[0m: name 'inner' is not defined"
     ]
    }
   ],
   "source": [
    "inner(transl_rotate+delta_T-transf_transl, transf_rotmat.T)"
   ]
  },
  {
   "cell_type": "code",
   "execution_count": 83,
   "metadata": {},
   "outputs": [],
   "source": [
    "A = np.array([i for i in range (0,6,2)])\n",
    "B = np.array([i for i in range (4,7)])"
   ]
  },
  {
   "cell_type": "code",
   "execution_count": 84,
   "metadata": {},
   "outputs": [],
   "source": [
    "A = np.tile(A,(3,1))\n",
    "B = np.tile(B,(3,1))"
   ]
  },
  {
   "cell_type": "code",
   "execution_count": 85,
   "metadata": {},
   "outputs": [
    {
     "data": {
      "text/plain": [
       "array([[34, 34, 34],\n",
       "       [34, 34, 34],\n",
       "       [34, 34, 34]])"
      ]
     },
     "execution_count": 85,
     "metadata": {},
     "output_type": "execute_result"
    }
   ],
   "source": [
    "np.inner(A,B)"
   ]
  },
  {
   "cell_type": "code",
   "execution_count": 76,
   "metadata": {},
   "outputs": [
    {
     "data": {
      "text/plain": [
       "array([[17, 17, 17],\n",
       "       [17, 17, 17],\n",
       "       [17, 17, 17]])"
      ]
     },
     "execution_count": 76,
     "metadata": {},
     "output_type": "execute_result"
    }
   ],
   "source": [
    "np.einsum('ij,tj->ti',A,B)"
   ]
  },
  {
   "cell_type": "code",
   "execution_count": null,
   "metadata": {},
   "outputs": [],
   "source": [
    "for i in range (0,3):\n",
    "    for j in range (0,"
   ]
  },
  {
   "cell_type": "code",
   "execution_count": null,
   "metadata": {},
   "outputs": [],
   "source": []
  },
  {
   "cell_type": "code",
   "execution_count": null,
   "metadata": {},
   "outputs": [],
   "source": []
  },
  {
   "cell_type": "code",
   "execution_count": 92,
   "metadata": {},
   "outputs": [],
   "source": [
    "glorot = torch.Tensor(data['global_orient'])\n",
    "transl = torch.Tensor(data['trans'])"
   ]
  },
  {
   "cell_type": "code",
   "execution_count": 88,
   "metadata": {},
   "outputs": [
    {
     "data": {
      "text/plain": [
       "torch.Size([3, 3, 3])"
      ]
     },
     "execution_count": 88,
     "metadata": {},
     "output_type": "execute_result"
    }
   ],
   "source": [
    "transf_rotmat.repeat(3,1,1).shape"
   ]
  },
  {
   "cell_type": "code",
   "execution_count": null,
   "metadata": {},
   "outputs": [],
   "source": [
    "transf_rotmat = transf_rotmat"
   ]
  },
  {
   "cell_type": "code",
   "execution_count": 93,
   "metadata": {},
   "outputs": [
    {
     "ename": "RuntimeError",
     "evalue": "einsum(): the number of subscripts in the equation (3) does not match the number of dimensions (2) for operand 0 and no ellipsis was given",
     "output_type": "error",
     "traceback": [
      "\u001b[0;31m---------------------------------------------------------------------------\u001b[0m",
      "\u001b[0;31mRuntimeError\u001b[0m                              Traceback (most recent call last)",
      "\u001b[1;32m/home/yuxinyao/GAMMA-release/exp_GAMMAPrimitive/canonicalize_batch.ipynb Cell 54\u001b[0m in \u001b[0;36m<cell line: 2>\u001b[0;34m()\u001b[0m\n\u001b[1;32m      <a href='vscode-notebook-cell:/home/yuxinyao/GAMMA-release/exp_GAMMAPrimitive/canonicalize_batch.ipynb#ch0000052?line=0'>1</a>\u001b[0m global_ori \u001b[39m=\u001b[39m tgm\u001b[39m.\u001b[39mangle_axis_to_rotation_matrix(glorot)[:,:\u001b[39m3\u001b[39m,:\u001b[39m3\u001b[39m]\n\u001b[0;32m----> <a href='vscode-notebook-cell:/home/yuxinyao/GAMMA-release/exp_GAMMAPrimitive/canonicalize_batch.ipynb#ch0000052?line=1'>2</a>\u001b[0m global_ori_new \u001b[39m=\u001b[39m torch\u001b[39m.\u001b[39;49meinsum(\u001b[39m'\u001b[39;49m\u001b[39mbij,bjk->bik\u001b[39;49m\u001b[39m'\u001b[39;49m, transf_rotmat\u001b[39m.\u001b[39;49mT, global_ori)\n\u001b[1;32m      <a href='vscode-notebook-cell:/home/yuxinyao/GAMMA-release/exp_GAMMAPrimitive/canonicalize_batch.ipynb#ch0000052?line=2'>3</a>\u001b[0m glorot \u001b[39m=\u001b[39m F\u001b[39m.\u001b[39mpad(global_ori_new, [\u001b[39m0\u001b[39m,\u001b[39m1\u001b[39m])\n\u001b[1;32m      <a href='vscode-notebook-cell:/home/yuxinyao/GAMMA-release/exp_GAMMAPrimitive/canonicalize_batch.ipynb#ch0000052?line=3'>4</a>\u001b[0m glorot \u001b[39m=\u001b[39m tgm\u001b[39m.\u001b[39mrotation_matrix_to_angle_axis(glorot)\u001b[39m.\u001b[39mview(\u001b[39m-\u001b[39m\u001b[39m1\u001b[39m, \u001b[39m3\u001b[39m)\u001b[39m.\u001b[39mcontiguous()\n",
      "File \u001b[0;32m~/anaconda3/envs/gamma/lib/python3.8/site-packages/torch/functional.py:360\u001b[0m, in \u001b[0;36meinsum\u001b[0;34m(*args)\u001b[0m\n\u001b[1;32m    356\u001b[0m     \u001b[39m# recurse incase operands contains value that has torch function\u001b[39;00m\n\u001b[1;32m    357\u001b[0m     \u001b[39m# in the original implementation this line is omitted\u001b[39;00m\n\u001b[1;32m    358\u001b[0m     \u001b[39mreturn\u001b[39;00m einsum(equation, \u001b[39m*\u001b[39m_operands)\n\u001b[0;32m--> 360\u001b[0m \u001b[39mreturn\u001b[39;00m _VF\u001b[39m.\u001b[39;49meinsum(equation, operands)\n",
      "\u001b[0;31mRuntimeError\u001b[0m: einsum(): the number of subscripts in the equation (3) does not match the number of dimensions (2) for operand 0 and no ellipsis was given"
     ]
    }
   ],
   "source": [
    "global_ori = tgm.angle_axis_to_rotation_matrix(glorot)[:,:3,:3]\n",
    "global_ori_new = torch.einsum('bij,bjk->bik', transf_rotmat.T, global_ori)\n",
    "glorot = F.pad(global_ori_new, [0,1])\n",
    "glorot = tgm.rotation_matrix_to_angle_axis(glorot).view(-1, 3).contiguous()\n",
    "transl = torch.einsum('bij,bj->bi', transf_rotmat.repeat(3,1,1).permute(0,2,1), transl+delta_T-transf_transl[:,0])-delta_T\n",
    "        "
   ]
  },
  {
   "cell_type": "code",
   "execution_count": null,
   "metadata": {},
   "outputs": [],
   "source": []
  }
 ],
 "metadata": {
  "kernelspec": {
   "display_name": "Python 3.8.13 ('gamma': conda)",
   "language": "python",
   "name": "python3"
  },
  "language_info": {
   "codemirror_mode": {
    "name": "ipython",
    "version": 3
   },
   "file_extension": ".py",
   "mimetype": "text/x-python",
   "name": "python",
   "nbconvert_exporter": "python",
   "pygments_lexer": "ipython3",
   "version": "3.8.13"
  },
  "orig_nbformat": 4,
  "vscode": {
   "interpreter": {
    "hash": "720d3a964413da2bea7e2e4b0eb30c556f9a5444fa1cb937fde2667f27456227"
   }
  }
 },
 "nbformat": 4,
 "nbformat_minor": 2
}
