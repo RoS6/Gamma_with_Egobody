{
 "cells": [
  {
   "cell_type": "code",
   "execution_count": 1,
   "metadata": {},
   "outputs": [],
   "source": [
    "from __future__ import absolute_import\n",
    "from __future__ import division\n",
    "from __future__ import print_function\n",
    "\n",
    "import os, sys, glob\n",
    "import numpy as np\n",
    "from tqdm import tqdm\n",
    "import torch\n",
    "import smplx\n",
    "from sklearn.neighbors import NearestNeighbors\n",
    "from scipy.spatial.transform import Rotation as R\n",
    "from scipy.ndimage import gaussian_filter1d\n",
    "import json\n",
    "import csv\n",
    "import pdb\n",
    "import pickle"
   ]
  },
  {
   "cell_type": "code",
   "execution_count": 2,
   "metadata": {},
   "outputs": [],
   "source": [
    "# need same format as in utils_canonicalize_amass.py??"
   ]
  },
  {
   "cell_type": "code",
   "execution_count": 9,
   "metadata": {},
   "outputs": [],
   "source": [
    "def get_body_model(type, gender, batch_size,device='cpu'):\n",
    "    '''\n",
    "    type: smpl, smplx smplh and others. Refer to smplx tutorial\n",
    "    gender: male, female, neutral\n",
    "    batch_size: an positive integar\n",
    "    '''\n",
    "    body_model_path = '/home/yuxinyao/body_models/'\n",
    "    body_model = smplx.create(body_model_path, model_type=type,\n",
    "                                    gender=gender, ext='npz',\n",
    "                                    num_pca_comps=12,\n",
    "                                    create_global_orient=True,\n",
    "                                    create_body_pose=True,\n",
    "                                    create_betas=True,\n",
    "                                    create_left_hand_pose=True,\n",
    "                                    create_right_hand_pose=True,\n",
    "                                    create_expression=True,\n",
    "                                    create_jaw_pose=True,\n",
    "                                    create_leye_pose=True,\n",
    "                                    create_reye_pose=True,\n",
    "                                    create_transl=True,\n",
    "                                    batch_size=batch_size\n",
    "                                    )\n",
    "    if device == 'cuda':\n",
    "        return body_model.cuda()\n",
    "    else:\n",
    "        return body_model\n",
    "        "
   ]
  },
  {
   "cell_type": "code",
   "execution_count": null,
   "metadata": {},
   "outputs": [],
   "source": []
  },
  {
   "cell_type": "code",
   "execution_count": 282,
   "metadata": {},
   "outputs": [],
   "source": [
    "with open('/home/yuxinyao/datasets/egobody/smplx_camera_wearer/recording_20210907_S02_S01_01/body_idx_1/results/frame_01551/000.pkl', 'rb') as f:\n",
    "    data = dict(pickle.load(f))"
   ]
  },
  {
   "cell_type": "code",
   "execution_count": 283,
   "metadata": {},
   "outputs": [],
   "source": [
    "bm_one_female =get_body_model('smplx','female',1,device='cuda')"
   ]
  },
  {
   "cell_type": "code",
   "execution_count": 284,
   "metadata": {},
   "outputs": [],
   "source": [
    "transl = data['transl']\n",
    "pose = data['body_pose']\n",
    "global_orient = data['global_orient']\n",
    "betas = data['betas']"
   ]
  },
  {
   "cell_type": "code",
   "execution_count": 285,
   "metadata": {},
   "outputs": [
    {
     "data": {
      "text/plain": [
       "array([[ 0.9270807 ,  0.37623283, -3.0154164 ]], dtype=float32)"
      ]
     },
     "execution_count": 285,
     "metadata": {},
     "output_type": "execute_result"
    }
   ],
   "source": [
    "global_orient"
   ]
  },
  {
   "cell_type": "code",
   "execution_count": 58,
   "metadata": {},
   "outputs": [],
   "source": [
    "# bodyconfig = {}\n",
    "# bodyconfig['transl'] = torch.FloatTensor(transl).cuda()\n",
    "# bodyconfig['global_orient'] = torch.FloatTensor(global_orient).cuda()\n",
    "# bodyconfig['body_pose'] = torch.FloatTensor(pose).cuda()\n",
    "# bodyconfig['betas'] = torch.FloatTensor(betas).cuda()\n",
    "# smplxout = bm_one_female(**bodyconfig)\n",
    "# joints = smplxout.joints.squeeze().detach().cpu().numpy()\n",
    "# x_axis = joints[2,:] - joints[1,:]\n",
    "# x_axis[-1] = 0\n",
    "# x_axis = x_axis / np.linalg.norm(x_axis)\n",
    "# z_axis = np.array([0,0,1])\n",
    "# y_axis = np.cross(z_axis, x_axis)\n",
    "# y_axis = y_axis/np.linalg.norm(y_axis)\n",
    "# global_ori_new = np.stack([x_axis, y_axis, z_axis], axis=1)\n",
    "# transl_new = joints[:1,:] \n",
    "\n",
    "# return global_ori_new, transl_new"
   ]
  },
  {
   "cell_type": "code",
   "execution_count": 253,
   "metadata": {},
   "outputs": [],
   "source": [
    "# get new coordinate\n",
    "\n",
    "# bodyconfig = {}\n",
    "# bodyconfig['transl'] = torch.FloatTensor(transl).cuda()\n",
    "# bodyconfig['global_orient'] = torch.FloatTensor(global_orient).cuda()\n",
    "# bodyconfig['body_pose'] = torch.FloatTensor(pose).cuda()\n",
    "# bodyconfig['betas'] = torch.FloatTensor(betas).cuda()\n",
    "\n",
    "# smplxout = bm_one_female(**bodyconfig)\n",
    "# joints = smplxout.joints.squeeze().detach().cpu().numpy()\n",
    "# x_axis = joints[2,:] - joints[1,:]\n",
    "# x_axis[-1] = 0\n",
    "# x_axis = x_axis / np.linalg.norm(x_axis)\n",
    "# z_axis = np.array([0,0,1])\n",
    "# y_axis = np.cross(z_axis, x_axis)\n",
    "# y_axis = y_axis/np.linalg.norm(y_axis)\n",
    "# global_ori_new = np.stack([x_axis, y_axis, z_axis], axis=1)\n",
    "# transl_new = joints[:1,:] # put the local origin to pelvis\n",
    "\n",
    "\n",
    "# transf_rotmat = global_ori_new\n",
    "# transf_transl = transl_new\n",
    "\n"
   ]
  },
  {
   "cell_type": "code",
   "execution_count": 254,
   "metadata": {},
   "outputs": [],
   "source": [
    "# #calibrate offset\n",
    "# # n_batches = 1\n",
    "# # bodyconfig = {}\n",
    "# # bodyconfig['body_pose'] = torch.FloatTensor(pose[:,3:]).cuda()\n",
    "# # bodyconfig['betas'] = torch.FloatTensor(betas).unsqueeze(0).repeat(n_batches,1).cuda()\n",
    "# # bodyconfig['transl'] = torch.zeros([n_batches,3], dtype=torch.float32).cuda()\n",
    "# # bodyconfig['global_orient'] = torch.zeros([n_batches,3], dtype=torch.float32).cuda()\n",
    "# smplx_out = bm_one_female(return_verts=True, **bodyconfig)\n",
    "# delta_T = smplx_out.joints[:,0,:] # we output all pelvis locations\n",
    "# delta_T = delta_T.detach().cpu().numpy() #[t, 3]\n"
   ]
  },
  {
   "cell_type": "code",
   "execution_count": 286,
   "metadata": {},
   "outputs": [],
   "source": [
    "global_ori = R.from_rotvec(global_orient).as_matrix()\n"
   ]
  },
  {
   "cell_type": "code",
   "execution_count": 287,
   "metadata": {},
   "outputs": [
    {
     "data": {
      "text/plain": [
       "(1, 3, 3)"
      ]
     },
     "execution_count": 287,
     "metadata": {},
     "output_type": "execute_result"
    }
   ],
   "source": [
    "global_ori.shape"
   ]
  },
  {
   "cell_type": "code",
   "execution_count": 288,
   "metadata": {},
   "outputs": [],
   "source": [
    "global_ori_new = np.einsum('ij,tjk->tik', R.from_rotvec([np.pi/2, 0, np.pi]).as_matrix() , global_ori)"
   ]
  },
  {
   "cell_type": "code",
   "execution_count": 289,
   "metadata": {},
   "outputs": [
    {
     "data": {
      "text/plain": [
       "(1, 3, 3)"
      ]
     },
     "execution_count": 289,
     "metadata": {},
     "output_type": "execute_result"
    }
   ],
   "source": [
    "global_ori_new.shape"
   ]
  },
  {
   "cell_type": "code",
   "execution_count": 290,
   "metadata": {},
   "outputs": [],
   "source": [
    "temp_bodyconfig = {}\n",
    "temp_bodyconfig['transl'] = torch.FloatTensor(transl).cuda()\n",
    "temp_bodyconfig['global_orient'] = torch.FloatTensor(R.from_matrix(global_ori_new).as_rotvec()).cuda()\n",
    "temp_bodyconfig['body_pose'] = torch.FloatTensor(pose).cuda()\n",
    "temp_bodyconfig['betas'] = torch.FloatTensor(betas).cuda()\n",
    "\n",
    "smplxout = bm_one_female(**temp_bodyconfig)\n",
    "joints = smplxout.joints.squeeze().detach().cpu().numpy()\n",
    "x_axis = joints[2,:] - joints[1,:]\n",
    "x_axis[-1] = 0\n",
    "x_axis = x_axis / np.linalg.norm(x_axis)\n",
    "z_axis = np.array([0,0,1])\n",
    "y_axis = np.cross(z_axis, x_axis)\n",
    "y_axis = y_axis/np.linalg.norm(y_axis)\n",
    "global_ori_new = np.stack([x_axis, y_axis, z_axis], axis=1)\n",
    "transl_new = joints[:1,:] # put the local origin to pelvis\n",
    "\n",
    "\n",
    "transf_rotmat = global_ori_new\n",
    "transf_transl = transl_new"
   ]
  },
  {
   "cell_type": "code",
   "execution_count": 291,
   "metadata": {},
   "outputs": [],
   "source": [
    "smplx_out = bm_one_female(return_verts=True, **temp_bodyconfig)\n",
    "delta_T = smplx_out.joints[:,0,:] # we output all pelvis locations\n",
    "delta_T = delta_T.detach().cpu().numpy() #[t, 3]"
   ]
  },
  {
   "cell_type": "code",
   "execution_count": 292,
   "metadata": {},
   "outputs": [
    {
     "data": {
      "text/plain": [
       "(3, 3)"
      ]
     },
     "execution_count": 292,
     "metadata": {},
     "output_type": "execute_result"
    }
   ],
   "source": [
    "transf_rotmat.shape"
   ]
  },
  {
   "cell_type": "code",
   "execution_count": 293,
   "metadata": {},
   "outputs": [
    {
     "data": {
      "text/plain": [
       "(1, 3, 3)"
      ]
     },
     "execution_count": 293,
     "metadata": {},
     "output_type": "execute_result"
    }
   ],
   "source": [
    "# R.from_matrix(global_ori_new).as_matrix().shape\n",
    "type(global_ori)\n",
    "global_ori.shape"
   ]
  },
  {
   "cell_type": "code",
   "execution_count": 294,
   "metadata": {},
   "outputs": [],
   "source": [
    "global_ori_new2 =  np.expand_dims(global_ori_new,0)"
   ]
  },
  {
   "cell_type": "code",
   "execution_count": 313,
   "metadata": {},
   "outputs": [],
   "source": [
    "# b = np.dstack([global_ori_new2]*10)"
   ]
  },
  {
   "cell_type": "code",
   "execution_count": 315,
   "metadata": {},
   "outputs": [],
   "source": [
    "# b"
   ]
  },
  {
   "cell_type": "code",
   "execution_count": 295,
   "metadata": {},
   "outputs": [
    {
     "data": {
      "text/plain": [
       "array([[[-0.34426281,  0.93887332,  0.        ],\n",
       "        [-0.93887329, -0.34426282,  0.        ],\n",
       "        [ 0.        ,  0.        ,  1.        ]]])"
      ]
     },
     "execution_count": 295,
     "metadata": {},
     "output_type": "execute_result"
    }
   ],
   "source": [
    "global_ori_new2"
   ]
  },
  {
   "cell_type": "code",
   "execution_count": 296,
   "metadata": {},
   "outputs": [],
   "source": [
    "global_ori_new = np.einsum('ij,tjk->tik', transf_rotmat.T, global_ori_new2)"
   ]
  },
  {
   "cell_type": "code",
   "execution_count": 297,
   "metadata": {},
   "outputs": [
    {
     "data": {
      "text/plain": [
       "array([[[0.99999994, 0.        , 0.        ],\n",
       "        [0.        , 1.        , 0.        ],\n",
       "        [0.        , 0.        , 1.        ]]])"
      ]
     },
     "execution_count": 297,
     "metadata": {},
     "output_type": "execute_result"
    }
   ],
   "source": [
    "global_ori_new"
   ]
  },
  {
   "cell_type": "code",
   "execution_count": 160,
   "metadata": {},
   "outputs": [],
   "source": [
    "# global_ori_new = np.einsum('ij,tjk->tik', R.from_rotvec([np.pi, 0, 0]).as_matrix() , global_ori_new)\n"
   ]
  },
  {
   "cell_type": "code",
   "execution_count": 298,
   "metadata": {},
   "outputs": [
    {
     "data": {
      "text/plain": [
       "array([[[0.99999994, 0.        , 0.        ],\n",
       "        [0.        , 1.        , 0.        ],\n",
       "        [0.        , 0.        , 1.        ]]])"
      ]
     },
     "execution_count": 298,
     "metadata": {},
     "output_type": "execute_result"
    }
   ],
   "source": [
    "global_ori_new"
   ]
  },
  {
   "cell_type": "code",
   "execution_count": 299,
   "metadata": {},
   "outputs": [],
   "source": [
    "# global_ori_new = np.einsum('ij,tjk->tik', R.from_rotvec([0, 0, np.pi]).as_matrix() , global_ori_new)"
   ]
  },
  {
   "cell_type": "code",
   "execution_count": 300,
   "metadata": {},
   "outputs": [
    {
     "data": {
      "text/plain": [
       "array([[[0.99999994, 0.        , 0.        ],\n",
       "        [0.        , 1.        , 0.        ],\n",
       "        [0.        , 0.        , 1.        ]]])"
      ]
     },
     "execution_count": 300,
     "metadata": {},
     "output_type": "execute_result"
    }
   ],
   "source": [
    "global_ori_new"
   ]
  },
  {
   "cell_type": "code",
   "execution_count": 301,
   "metadata": {},
   "outputs": [],
   "source": [
    "global_orient_save = R.from_matrix(global_ori_new).as_rotvec()"
   ]
  },
  {
   "cell_type": "code",
   "execution_count": 302,
   "metadata": {},
   "outputs": [
    {
     "data": {
      "text/plain": [
       "array([[0., 0., 0.]])"
      ]
     },
     "execution_count": 302,
     "metadata": {},
     "output_type": "execute_result"
    }
   ],
   "source": [
    "global_orient_save#  why not 0 0 0 ?"
   ]
  },
  {
   "cell_type": "code",
   "execution_count": 303,
   "metadata": {},
   "outputs": [],
   "source": [
    "transl2 = transl.repeat(10)"
   ]
  },
  {
   "cell_type": "code",
   "execution_count": 275,
   "metadata": {},
   "outputs": [],
   "source": [
    "transl_save = np.einsum('ij,tj->ti', transf_rotmat.T, transl+delta_T-transf_transl)-delta_T"
   ]
  },
  {
   "cell_type": "code",
   "execution_count": 199,
   "metadata": {},
   "outputs": [
    {
     "data": {
      "text/plain": [
       "array([[-0.00063879,  0.34957072, -0.01364826]])"
      ]
     },
     "execution_count": 199,
     "metadata": {},
     "output_type": "execute_result"
    }
   ],
   "source": [
    "transl_save #why not 0,0,0??"
   ]
  },
  {
   "cell_type": "code",
   "execution_count": 276,
   "metadata": {},
   "outputs": [],
   "source": [
    "data_out = data\n",
    "data_out['trans'] = transl_save\n",
    "data_out['body_pose'] = pose\n",
    "data_out['betas'] = betas\n",
    "data_out['gender'] = data['gender']\n",
    "data_out['global_orient'] = global_orient_save\n",
    "\n"
   ]
  },
  {
   "cell_type": "code",
   "execution_count": 277,
   "metadata": {},
   "outputs": [],
   "source": [
    "with open('/home/yuxinyao/datasets/egobody/test/canonicalized_xrotzrot4.pkl', 'wb') as f:\n",
    "    pickle.dump(data_out,f)"
   ]
  },
  {
   "cell_type": "code",
   "execution_count": 281,
   "metadata": {},
   "outputs": [
    {
     "name": "stdout",
     "output_type": "stream",
     "text": [
      "[[0. 0. 0.]]\n",
      "[[0. 0. 0.]]\n"
     ]
    }
   ],
   "source": [
    "print(global_orient_save)\n",
    "print(data['global_orient'])"
   ]
  },
  {
   "cell_type": "code",
   "execution_count": 279,
   "metadata": {},
   "outputs": [
    {
     "data": {
      "text/plain": [
       "array([[-0.87619786,  0.05534796, -0.01364851]])"
      ]
     },
     "execution_count": 279,
     "metadata": {},
     "output_type": "execute_result"
    }
   ],
   "source": [
    "transl_save"
   ]
  },
  {
   "cell_type": "code",
   "execution_count": null,
   "metadata": {},
   "outputs": [],
   "source": []
  },
  {
   "cell_type": "code",
   "execution_count": null,
   "metadata": {},
   "outputs": [],
   "source": []
  },
  {
   "cell_type": "code",
   "execution_count": 170,
   "metadata": {},
   "outputs": [
    {
     "data": {
      "text/plain": [
       "array([[[-0.82912547,  0.03542591, -0.55793904],\n",
       "        [ 0.10275382, -0.97133237, -0.21437135],\n",
       "        [-0.54953855, -0.23507111,  0.80171626]]])"
      ]
     },
     "execution_count": 170,
     "metadata": {},
     "output_type": "execute_result"
    }
   ],
   "source": [
    "global_ori"
   ]
  },
  {
   "cell_type": "code",
   "execution_count": 171,
   "metadata": {},
   "outputs": [],
   "source": [
    "smplxout = bm_one_female(**bodyconfig)"
   ]
  },
  {
   "cell_type": "code",
   "execution_count": 172,
   "metadata": {},
   "outputs": [],
   "source": [
    "joints = smplxout.joints.squeeze(0)"
   ]
  },
  {
   "cell_type": "code",
   "execution_count": 173,
   "metadata": {},
   "outputs": [],
   "source": [
    "jointNumpy = joints.detach().cpu().numpy()"
   ]
  },
  {
   "cell_type": "code",
   "execution_count": 174,
   "metadata": {},
   "outputs": [],
   "source": [
    "j = joints[:24]"
   ]
  },
  {
   "cell_type": "code",
   "execution_count": 175,
   "metadata": {},
   "outputs": [],
   "source": [
    "jnp = jointNumpy[:24]"
   ]
  },
  {
   "cell_type": "code",
   "execution_count": 176,
   "metadata": {},
   "outputs": [],
   "source": [
    "#cal calibrate offset\n",
    "bodyconfig = {}\n",
    "bodyconfig['body_pose'] = torch.FloatTensor(pose).cuda()\n",
    "bodyconfig['betas'] = torch.FloatTensor(betas).cuda()\n",
    "bodyconfig['transl'] = torch.zeros([1,3], dtype=torch.float32).cuda()\n",
    "bodyconfig['global_orient'] = torch.zeros([1,3], dtype=torch.float32).cuda()\n",
    "smplx_out = bm_one_female(return_verts=True, **bodyconfig)\n",
    "delta_T = smplx_out.joints[:,0,:] # we output all pelvis locations\n",
    "delta_T = delta_T.detach().cpu().numpy() #[t, 3]\n",
    "global_ori = R.from_rotvec(pose[:,:3]).as_matrix() # to [t,3,3] rotation mat\n",
    "global_ori_new = np.einsum('ij,tjk->tik', transf_rotmat.T, global_ori)\n",
    "pose[:,:3] = R.from_matrix(global_ori_new).as_rotvec()\n",
    "\n",
    "\n",
    "# return delta_T\n"
   ]
  },
  {
   "cell_type": "code",
   "execution_count": 177,
   "metadata": {},
   "outputs": [
    {
     "ename": "NameError",
     "evalue": "name 'get_new_coordinate' is not defined",
     "output_type": "error",
     "traceback": [
      "\u001b[0;31m---------------------------------------------------------------------------\u001b[0m",
      "\u001b[0;31mNameError\u001b[0m                                 Traceback (most recent call last)",
      "\u001b[1;32m/home/yuxinyao/GAMMA-release/exp_GAMMAPrimitive/canonicalize2.ipynb Cell 36\u001b[0m in \u001b[0;36m<cell line: 1>\u001b[0;34m()\u001b[0m\n\u001b[0;32m----> <a href='vscode-notebook-cell:/home/yuxinyao/GAMMA-release/exp_GAMMAPrimitive/canonicalize2.ipynb#ch0000022?line=0'>1</a>\u001b[0m transf_rotmat, transf_transl \u001b[39m=\u001b[39m get_new_coordinate(bm_one_female, betas[:\u001b[39m10\u001b[39m], transl[:\u001b[39m1\u001b[39m,:], pose[:\u001b[39m1\u001b[39m,:\u001b[39m66\u001b[39m])\n",
      "\u001b[0;31mNameError\u001b[0m: name 'get_new_coordinate' is not defined"
     ]
    }
   ],
   "source": [
    "transf_rotmat, transf_transl = get_new_coordinate(bm_one_female, betas[:10], transl[:1,:], pose[:1,:66])"
   ]
  },
  {
   "cell_type": "code",
   "execution_count": null,
   "metadata": {},
   "outputs": [
    {
     "data": {
      "text/plain": [
       "Text(0.5, 0, 'Z ')"
      ]
     },
     "execution_count": 40,
     "metadata": {},
     "output_type": "execute_result"
    },
    {
     "data": {
      "image/png": "[encoded data removed]",
      "text/plain": [
       "<Figure size 432x288 with 1 Axes>"
      ]
     },
     "metadata": {
      "needs_background": "light"
     },
     "output_type": "display_data"
    }
   ],
   "source": [
    "import matplotlib.pyplot as plt\n",
    "fig = plt.figure()\n",
    "ax = fig.add_subplot(projection='3d')\n",
    "for i, j ,k in jointNumpy:\n",
    "    ax.scatter(i, j, k, marker='o')\n",
    "ax.set_xlabel('X ')\n",
    "ax.set_ylabel('Y ')\n",
    "ax.set_zlabel('Z ')\n"
   ]
  },
  {
   "cell_type": "code",
   "execution_count": null,
   "metadata": {},
   "outputs": [],
   "source": []
  }
 ],
 "metadata": {
  "kernelspec": {
   "display_name": "Python 3.8.13 ('gamma': conda)",
   "language": "python",
   "name": "python3"
  },
  "language_info": {
   "codemirror_mode": {
    "name": "ipython",
    "version": 3
   },
   "file_extension": ".py",
   "mimetype": "text/x-python",
   "name": "python",
   "nbconvert_exporter": "python",
   "pygments_lexer": "ipython3",
   "version": "3.8.13"
  },
  "orig_nbformat": 4,
  "vscode": {
   "interpreter": {
    "hash": "720d3a964413da2bea7e2e4b0eb30c556f9a5444fa1cb937fde2667f27456227"
   }
  }
 },
 "nbformat": 4,
 "nbformat_minor": 2
}
